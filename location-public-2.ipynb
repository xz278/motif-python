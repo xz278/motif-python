{
 "cells": [
  {
   "cell_type": "code",
   "execution_count": 2,
   "metadata": {
    "collapsed": true
   },
   "outputs": [],
   "source": [
    "%matplotlib inline"
   ]
  },
  {
   "cell_type": "code",
   "execution_count": 3,
   "metadata": {
    "collapsed": true
   },
   "outputs": [],
   "source": [
    "import pandas as pd\n",
    "import numpy as np\n",
    "import geopy\n",
    "import geohash\n",
    "from collections import Counter\n",
    "\n",
    "# install anvil from https://github.com/saeed-abdullah/Anvil\n",
    "# pip git+https://github.com/saeed-abdullah/Anvil\n",
    "import anvil\n",
    "from anvil import api\n",
    "import math\n",
    "import matplotlib.pyplot as plt\n",
    "import seaborn as sns\n",
    "from itertools import permutations, repeat\n",
    "import matplotlib.patches as patches\n",
    "import pytz\n",
    "from geopy.distance import vincenty"
   ]
  },
  {
   "cell_type": "code",
   "execution_count": 4,
   "metadata": {
    "collapsed": true
   },
   "outputs": [],
   "source": [
    "import networkx as nx"
   ]
  },
  {
   "cell_type": "code",
   "execution_count": 5,
   "metadata": {
    "collapsed": true
   },
   "outputs": [],
   "source": [
    "import folium "
   ]
  },
  {
   "cell_type": "code",
   "execution_count": 6,
   "metadata": {
    "collapsed": false
   },
   "outputs": [],
   "source": [
    "sns.set_context(\"poster\", font_scale=1.4)"
   ]
  },
  {
   "cell_type": "code",
   "execution_count": 7,
   "metadata": {
    "collapsed": false
   },
   "outputs": [],
   "source": [
    "def compute_geo_hash(df, lat_c='lat',\n",
    "                     lon_c='lon', precision=12):\n",
    "    \"\"\"\n",
    "    Computes geohash values.\n",
    "    \n",
    "    Parameters\n",
    "    ----------\n",
    "    df : DataFrame\n",
    "    lat_c : str\n",
    "        Name of column containing latitude values.\n",
    "        Default is `lat`.\n",
    "    lon_c : str\n",
    "        Name of column containing longitude values.\n",
    "        Default is `lon`.\n",
    "    precision : int\n",
    "        Precisoin of generated geohash function.\n",
    "        Take a look at geohash length and precision\n",
    "        here: https://en.wikipedia.org/wiki/Geohash\n",
    "        \n",
    "        \n",
    "    Returns\n",
    "    -------\n",
    "    l : iterables\n",
    "        List of geohash values corresponding to the\n",
    "        rows of values in the given dataframe\n",
    "    \"\"\"\n",
    "    \n",
    "    \n",
    "    # get geohash data\n",
    "    l = []\n",
    "    for _, row in df.iterrows():\n",
    "        g = geohash.encode(latitude=row[lat_c],\n",
    "                           longitude=row[lon_c],\n",
    "                           precision=precision)\n",
    "        l.append(g)\n",
    "        \n",
    "    return l"
   ]
  },
  {
   "cell_type": "code",
   "execution_count": 8,
   "metadata": {
    "collapsed": false
   },
   "outputs": [],
   "source": [
    "def map_geo_hashed_value(l):\n",
    "    \"\"\"\n",
    "    Returns a geohash -> int mapping.\n",
    "    \n",
    "    Geohashed values are sorted in ascending order\n",
    "    and then numerical IDs are assigned.\n",
    "    \n",
    "    Parameters\n",
    "    ----------\n",
    "    l : iterables\n",
    "        List of hased values. Might contian\n",
    "        duplicates.\n",
    "    \n",
    "    Returns\n",
    "    -------\n",
    "    d : dict\n",
    "        A dictionary with hashed values as keys\n",
    "        and numerical ids as values. The dict length\n",
    "        might be less than the given list if it\n",
    "        contains duplicates\n",
    "    \"\"\"\n",
    "    \n",
    "    l = sorted(l)\n",
    "    return {k: index for index, k in enumerate(l)}"
   ]
  },
  {
   "cell_type": "code",
   "execution_count": 9,
   "metadata": {
    "collapsed": true
   },
   "outputs": [],
   "source": [
    "def trim_geo_hash_precision(hashed_values, precision=9):\n",
    "    \"\"\"\n",
    "    Trims geo hash precision.\n",
    "    \n",
    "    Parameters\n",
    "    ----------\n",
    "    hashed_values : Series\n",
    "        Contains geohashed values as strings.\n",
    "        \n",
    "    precision : int\n",
    "        The desired precision. If the current\n",
    "        precision is smaller, then nothing is done.\n",
    "    \"\"\"\n",
    "    \n",
    "    return hashed_values.map(lambda z: z[:precision])"
   ]
  },
  {
   "cell_type": "code",
   "execution_count": 10,
   "metadata": {
    "collapsed": true
   },
   "outputs": [],
   "source": [
    "def filter_out_rare_points(points, threshold_pct=0.5):\n",
    "    \"\"\"\n",
    "    Filters out rare points.\n",
    "    \n",
    "    All points with occurrences <= threshold_pct is\n",
    "    considerd as rare points. All rare points are\n",
    "    replaced by pd.NaN\n",
    "    \n",
    "    Parameters\n",
    "    ----------\n",
    "    points : iterables\n",
    "        Instances of points\n",
    "        \n",
    "    threshold_pct : float\n",
    "        Threshold in percentage for rare points. Any\n",
    "        point occuring less than given threshold is\n",
    "        considerd as a rare point. Default is 0.5%\n",
    "    \n",
    "    Returns\n",
    "    -------\n",
    "    l : list\n",
    "        List where rare points are marked as pd.NaN.\n",
    "    \"\"\"\n",
    "    \n",
    "    c = Counter(points)\n",
    "    total = sum(c.values())\n",
    "    l = []\n",
    "    for p in points:\n",
    "        v = c[p]\n",
    "        if v/total * 100 <= threshold_pct:\n",
    "            l.append(np.nan)\n",
    "        else:\n",
    "            l.append(p)\n",
    "    \n",
    "    return l\n",
    "    "
   ]
  },
  {
   "cell_type": "code",
   "execution_count": 11,
   "metadata": {
    "collapsed": true
   },
   "outputs": [],
   "source": [
    "def get_primary_location(locations, aggr_f='count',\n",
    "                         geo_hash_c='geo_hash'):\n",
    "    \"\"\"\n",
    "    Gets the primary location.\n",
    "    \n",
    "    Within any given duration there might be a number\n",
    "    of locations visited by user. This function\n",
    "    identifies the primary location from a given list\n",
    "    of locations.\n",
    "    \n",
    "    How to define a primary location? In this case,\n",
    "    we use duration of time spent by a user within\n",
    "    a given duration.\n",
    "    \n",
    "    Parameters\n",
    "    ----------\n",
    "    locations : Series\n",
    "        Series with geo hased values.\n",
    "        \n",
    "    aggr_f : str\n",
    "        Aggregating function. Default is 'count' which\n",
    "        will result in counting number of rows. If the\n",
    "        sampling rate is somewhat consistent then just\n",
    "        counting the number of times a place has been\n",
    "        recorded is a good approximation of the time\n",
    "        spent by a user.\n",
    "        \n",
    "    geo_hash_c : str\n",
    "        Column name that contains geo hash values.\n",
    "        \n",
    "    Parameters\n",
    "    ----------\n",
    "    location : str\n",
    "        Returns the primary location.\n",
    "    \"\"\"\n",
    "    \n",
    "    if aggr_f != 'count':\n",
    "        raise ValueError('Aggregate function {0} is not supported'.format(aggr_f))\n",
    "\n",
    "    # sorted by size of each group\n",
    "    return locations.groupby(locations).size().sort_values(ascending=False).index[0]\n",
    "    "
   ]
  },
  {
   "cell_type": "code",
   "execution_count": 12,
   "metadata": {
    "collapsed": false
   },
   "outputs": [],
   "source": [
    "def generate_daily_nodes(df, hash_c='geo_hash',\n",
    "                         geo_hash_preicion=None,\n",
    "                         shift_day_start=None,\n",
    "                         rare_pt_pct_th=0.5,\n",
    "                         valid_day_th=8,\n",
    "                         start_date=None,\n",
    "                         end_date=None,\n",
    "                         home=None,\n",
    "                         **kwargs):\n",
    "    \"\"\"\n",
    "    Parameters\n",
    "    ----------\n",
    "    df : DataFrame\n",
    "        DataFrame with sorted DateTimeIndex.\n",
    "        \n",
    "    hash_c : str\n",
    "        Columns containing geo hash values.\n",
    "        \n",
    "    geo_hash_precision : int\n",
    "        Desired precision of geo hashed values. See\n",
    "        `trim_geo_hash_precision` for details. If `None`,\n",
    "        no trimming will happen. Default is None.\n",
    "        \n",
    "    shift_day_start : pd.tslib.Timedelta\n",
    "        The duration by which the start of the day should\n",
    "        be shifted. For example, in the original paper,\n",
    "        the day starts at 3:30AM. Provided value should\n",
    "        be in pd.tslib.TimeDelta (e.g., for 3:30AM start\n",
    "        of the day, it should be pd.to_timedelta('3.5H')).\n",
    "        Default is None.\n",
    "        \n",
    "    rare_pt_pct_th : float\n",
    "        Threshold for rare points in percentage. See\n",
    "        `filter_out_rare_points` for more details. Default\n",
    "        is 0.5%. If `None`, no filtering happens.\n",
    "        \n",
    "    valid_day_th : int\n",
    "        Minimum number of intervals for a valid day. If\n",
    "        a day has < valid_day_th intervals, it will be\n",
    "        discarded. Default is 8.\n",
    "        \n",
    "    start_date : TimeStamp\n",
    "        Start date to generate nodes. If None, the minimum\n",
    "        day in the DateTimeIndex will be used.\n",
    "        \n",
    "    end_date : TimeStamp\n",
    "        End date to generate nodes. If None, 1 + maximum day\n",
    "        in the DateTimeIndex will be used.\n",
    "        \n",
    "    kwargs\n",
    "        Arbitrary keyword based arguments passed to\n",
    "        `generate_nodes` (e.g., time_interval)\n",
    "        \n",
    "        \n",
    "    Returns\n",
    "    -------\n",
    "    l : list\n",
    "        A list containing (date, nodes) pairs. Where nodes\n",
    "        are represented as a DataFrame returned by `generate_nodes`.\n",
    "        \n",
    "        \n",
    "    Notes\n",
    "    -----\n",
    "        The start date and end date is used pd.date_range to\n",
    "        generate list of days. So, it is important to have\n",
    "        same timezone information for start_date and end_date\n",
    "        as in the given DateTimeIndex.\n",
    "        \n",
    "    \"\"\"\n",
    "    \n",
    "    df = df.copy().loc[:, [hash_c]]\n",
    "    \n",
    "    l = []\n",
    "    \n",
    "    if start_date is None:\n",
    "        d = df.index.min()\n",
    "        tz = d.tz  # timezone information\n",
    "        \n",
    "        start_date = pd.to_datetime(d.date()).tz_localize(tz)\n",
    "        \n",
    "    if end_date is None:\n",
    "        d = df.index.max()\n",
    "        tz = d.tz  # timezone information\n",
    "        \n",
    "        # maximum date + 1\n",
    "        end_date = pd.to_datetime(d.date()).tz_localize(tz) + pd.to_timedelta('1D')\n",
    "        \n",
    "        \n",
    "    # shifting start of the day\n",
    "    if shift_day_start is not None:\n",
    "        start_date = start_date + shift_day_start\n",
    "        end_date = end_date + shift_day_start\n",
    "        \n",
    "        \n",
    "    if geo_hash_preicion is not None:\n",
    "        df[hash_c] = trim_geo_hash_precision(df[hash_c], geo_hash_preicion)\n",
    "    \n",
    "    # remove rare points\n",
    "    if rare_pt_pct_th is not None:\n",
    "        df[hash_c] = filter_out_rare_points(df[hash_c],\n",
    "                                            rare_pt_pct_th)\n",
    "    \n",
    "    # remove NA values (potentially resulting from removing rare points)\n",
    "    df = df.dropna(subset=[hash_c])\n",
    "    \n",
    "    days = pd.date_range(start=start_date, end=end_date, freq='1D')\n",
    "    for index, rows in enumerate(anvil.utils.get_df_slices(df, days)):\n",
    "        d = days[index]\n",
    "        \n",
    "        nodes = generate_nodes(rows[hash_c], start_time=d, **kwargs)\n",
    "        \n",
    "        if (home is not None) and (type(nodes.ix[0,'node']) is not str):\n",
    "            nodes.ix[0,'node'] = home\n",
    "        \n",
    "        if len(nodes) < valid_day_th:\n",
    "            l.append((d, np.nan))\n",
    "        else:\n",
    "            l.append((d, nodes))\n",
    "            \n",
    "    return l"
   ]
  },
  {
   "cell_type": "code",
   "execution_count": 13,
   "metadata": {
    "collapsed": true
   },
   "outputs": [],
   "source": [
    "def generate_nodes(locations,\n",
    "                   start_time,\n",
    "                   end_time=None,\n",
    "                   time_interval='30Min',\n",
    "                   valid_interval_th=1):\n",
    "    \"\"\"\n",
    "    Generates motif information from location data.\n",
    "    \n",
    "    This function follows the work of Schneider et al.\n",
    "    (see http://rsif.royalsocietypublishing.org/content/10/84/20130246/)\n",
    "    \n",
    "    Parameters\n",
    "    ----------\n",
    "    \n",
    "    locations : Series\n",
    "        Series with sorted DateTimeIndex and geo hased values\n",
    "        over a given day.\n",
    "        \n",
    "    start_time : pandas.tslib.Timestamp\n",
    "        Start time to generate time intervals.\n",
    "        \n",
    "    end_time : pandas.tslib.Timestamp\n",
    "        End time for generating time invervals. If None,\n",
    "        it is set to 24 hours after start_time. Default\n",
    "        is None.\n",
    "        \n",
    "    time_interval : str\n",
    "        The interval duration. The default is 30 mins\n",
    "        (resulting in 48 intervals per day). The argument\n",
    "        is passed to `pd.date_range` as the frequency string.\n",
    "        \n",
    "    valid_interval_th : int\n",
    "        Minimum number of records for a valid interval.\n",
    "        If an interval has < valid_interval_th rows, it will\n",
    "        not be considered. Default is 1.\n",
    "        \n",
    "    Returns\n",
    "    -------\n",
    "    s : Series\n",
    "        Series with interval order as keys and primary location as\n",
    "        values. If the interval is not valid (e.g., not having\n",
    "        sufficient records), it will contain np.nan as value.\n",
    "    \"\"\"\n",
    "    \n",
    "    if end_time is None:\n",
    "        end_time = start_time + pd.to_timedelta('1D')\n",
    "\n",
    "    intervals = pd.date_range(start=start_time,\n",
    "                              end=end_time, freq=time_interval)\n",
    "    s = []\n",
    "    \n",
    "    for index, t in enumerate(anvil.utils.get_df_slices(locations,\n",
    "                                             intervals)):\n",
    "        debug = intervals[index]\n",
    "            \n",
    "        if len(t) < valid_interval_th:\n",
    "            s.append({'node': np.nan, 'time': intervals[index]})\n",
    "        else:\n",
    "            s.append({'node': get_primary_location(t), 'time': intervals[index]})\n",
    "            \n",
    "    return pd.DataFrame(s)"
   ]
  },
  {
   "cell_type": "code",
   "execution_count": 14,
   "metadata": {
    "collapsed": false
   },
   "outputs": [],
   "source": [
    "def resample_location_data(df, time_delta=None,\n",
    "                          duration_c='duration',\n",
    "                          time_c='entry_time'):\n",
    "    \"\"\"\n",
    "    Resamples location data.\n",
    "    \n",
    "    Location data from iOS client contains duration\n",
    "    information. This might result in irregular intervals\n",
    "    between each subsequent records. As we use frequency\n",
    "    of records in `get_primary_location`, this can result\n",
    "    in inconsistent results (e.g., given two instances of L1\n",
    "    with 10 seconds each and one instance of L2 with 25 minutes,\n",
    "    it will wrongly identify L1 as primary location). Just\n",
    "    using duration is not adequate to solve this problem as\n",
    "    duration might overlap multiple intervals. For example,\n",
    "    in case of 30 minutes intervals, a location record starting\n",
    "    at 4:15 with duration of 30 minutes needs to be split into\n",
    "    two records: 4:15–4:30 and 4:30–4:45. Otherwise, the primary\n",
    "    location might be wrongly attributed to a different location\n",
    "    (or no location) for 4:30–5:00 interval.\n",
    "    \n",
    "    One way of avoiding these issues is to have somewhat uniform\n",
    "    sampling. In other words, given a desired sampling rate of 1 min,\n",
    "    if a row has duration of 30 minutes, then spread this record over\n",
    "    30 rows where each row represent a single minute. In this case,\n",
    "    the entry times of each record should be updated accrodingly (i.e.,\n",
    "    entry time of i-th row should be entry_time + i-th minute) and\n",
    "    the total duration should add up to 30 minutes.\n",
    "    \n",
    "    Parameters\n",
    "    ----------\n",
    "    \n",
    "    df : DataFrame\n",
    "    time_delta : str\n",
    "        Argument passed to `pd.to_timedelta`. Default is\n",
    "        1 minute.\n",
    "    duration_c : str\n",
    "        Duration column name. The duration must be in seconds.\n",
    "    time_c : str\n",
    "        Time column name. Must be in pd.Timestamp format.\n",
    "        \n",
    "    Returns\n",
    "    -------\n",
    "    DataFrame\n",
    "        Returns a new dataframe with updated sampling rate.\n",
    "    \"\"\"\n",
    "\n",
    "    l = []\n",
    "    if time_delta is None:\n",
    "        time_delta = pd.to_timedelta('60s')\n",
    "    else:\n",
    "        time_delta = pd.to_timedelta(time_delta)\n",
    "    threshold = time_delta.total_seconds()\n",
    "\n",
    "    for rows in df.iterrows():\n",
    "        r = rows[1]\n",
    "        d = r[duration_c]\n",
    "        entry_time = r[time_c]\n",
    "        while d > threshold:\n",
    "            new_r = r.copy()\n",
    "            new_r[time_c] = entry_time\n",
    "            new_r[duration_c] = threshold\n",
    "            l.append(new_r)\n",
    "\n",
    "            d = d - threshold\n",
    "            entry_time = entry_time + time_delta\n",
    "\n",
    "        new_r = r.copy()\n",
    "        new_r[time_c] = entry_time\n",
    "        new_r[duration_c] = d\n",
    "        l.append(new_r)\n",
    "        \n",
    "    return pd.DataFrame(l)\n",
    "        "
   ]
  },
  {
   "cell_type": "code",
   "execution_count": 15,
   "metadata": {
    "collapsed": true
   },
   "outputs": [],
   "source": [
    "def generate_graph(nodes):\n",
    "    \"\"\"\n",
    "    Generate graphs from a given series of nodes.\n",
    "    \n",
    "    Parameters\n",
    "    ----------\n",
    "    nodes : Series\n",
    "        An iterable of nodes. It can contain NaN values\n",
    "        \n",
    "        \n",
    "    Returns\n",
    "    -------\n",
    "    list\n",
    "        A list of strings where the edges are seperated by\n",
    "        whitespace (e.g., [\"a b\", \"b c\"]). It can be parsed\n",
    "        by networkx.parse_edgelist.\n",
    "        \n",
    "        \n",
    "    ToDos\n",
    "    -----\n",
    "        1. Only considering non-consecutive nodes (e.g.,\n",
    "        what to do if seperated by NaN).\n",
    "    \"\"\"\n",
    "    \n",
    "    nodes = nodes.dropna()\n",
    "    l = []\n",
    "    edge_format = \"{0} {1}\"\n",
    "    \n",
    "    for x1, x2 in zip(nodes.shift(), nodes):\n",
    "        if not(pd.isnull(x1) or pd.isnull(x2)):\n",
    "            if x1 != x2:\n",
    "                l.append(edge_format.format(x1, x2))\n",
    "                \n",
    "    return l\n",
    "    "
   ]
  },
  {
   "cell_type": "code",
   "execution_count": 16,
   "metadata": {
    "collapsed": true
   },
   "outputs": [],
   "source": [
    "def get_geo_center(df, lat_c='latitude', lon_c='longitude'):\n",
    "    \"\"\"\n",
    "    Calculates center of given geo points.\n",
    "    \n",
    "    To avoid \"wrap-around\" issues (near international dateline),\n",
    "    this method follows [1].\n",
    "    \n",
    "    Parameters\n",
    "    ----------\n",
    "    df: DataFrame\n",
    "    \n",
    "    lat_c: str\n",
    "        Column name containing latitudes. Default is latitude.\n",
    "    lon_c: str\n",
    "        Column name containing longitudes. Default is longitude\n",
    "        \n",
    "    Returns\n",
    "    -------\n",
    "    d: dict\n",
    "        Keys 'latitude' and 'longitude' indicate\n",
    "        the coordinates of the center point.\n",
    "\n",
    "    [1]: https://carto.com/blog/center-of-points/\n",
    "    \"\"\"\n",
    "    \n",
    "    lat = df[lat_c]\n",
    "    lon = df[lon_c]\n",
    "    \n",
    "    angle = math.pi / 180\n",
    "    \n",
    "    center_lat = math.atan2(np.mean(np.sin(lat * angle)), \n",
    "                            np.mean(np.cos(lat * angle))) * 180 / math.pi\n",
    "    \n",
    "    center_lon = math.atan2(np.mean(np.sin(lon * angle)), \n",
    "                            np.mean(np.cos(lon * angle))) * 180 / math.pi\n",
    "    \n",
    "    return {'longitude': center_lon, 'latitude': center_lat}\n",
    "    \n",
    "    "
   ]
  },
  {
   "cell_type": "code",
   "execution_count": 17,
   "metadata": {
    "collapsed": false
   },
   "outputs": [],
   "source": [
    "def get_stay_point(df, lat_c='latitude',\n",
    "                   lon_c='longitude', dist_th=300,\n",
    "                   time_th='30m'):\n",
    "    \"\"\"\n",
    "    Calculates stay points.\n",
    "    \n",
    "    Stay points are determined following [1]. That is,\n",
    "    if a user stays within a given radius (e.g., dist_th)\n",
    "    for a given period of time (e.g., time_th), then the\n",
    "    center of these points is a stay point.\n",
    "    \n",
    "    In this implementation, given a set of points p_k (i <= k <= j),\n",
    "    where these points are sorted ascendingly in terms of occurence\n",
    "    (i.e., t_k <= t_(k+1)), we take a greedy approach to\n",
    "    determine if these points result in a stay point. That is, these\n",
    "    points are considered for stay points if:\n",
    "    \n",
    "        1. distance between first (p_i) and last point (p_j) is less\n",
    "    than dist_th, and\n",
    "        2. the time between the first and last point is larger than the\n",
    "    threshold (e.g., t_j - t_i >= time_th).\n",
    "    \n",
    "    \n",
    "    Note that this is a greedy algorithm as we implicitly consider\n",
    "    the first point as the center of a cluster (with radius of dist_th)\n",
    "    which might not be the optimal choice (similar case for time duration\n",
    "    calculation). However, these issues should get resolved in the\n",
    "    subsequent phase (i.e., by computing stay regions).\n",
    "    \n",
    "    Parameters\n",
    "    ----------\n",
    "    df: DataFrame\n",
    "        DataFrame with sorted (ascending) DateTimeIndex\n",
    "        \n",
    "    lat_c: str\n",
    "        Column name with latitude values\n",
    "    \n",
    "    lon_c: str\n",
    "        Column name with longitude values\n",
    "        \n",
    "    dist_th: float\n",
    "        Distance threshold in meters. Default is 300m.\n",
    "        \n",
    "    time_th: str or pd.timedelta\n",
    "        Time threshold that will be parsed by pd.to_timedelta.\n",
    "        Default is 30 minutes.\n",
    "        \n",
    "        \n",
    "    Returns\n",
    "    -------\n",
    "    stay_points : list\n",
    "        A list corresponding to the rows of df. Each item\n",
    "        represents the sray point ids (so points within same\n",
    "        stay points will have same id). If a point is a travel point\n",
    "        (i.e., does not belog to any stay points), then it will \n",
    "        have np.NaN.\n",
    "        \n",
    "    \n",
    "    [1]: https://dl.acm.org/citation.cfm?id=1463477\n",
    "    \"\"\"\n",
    "    \n",
    "    \n",
    "    index = 0\n",
    "    stay_points_c = 0  # total stay points count\n",
    "    stay_points = []\n",
    "    \n",
    "    max_len = len(df)\n",
    "    time_th = pd.to_timedelta(time_th)\n",
    "    \n",
    "    while index < max_len:\n",
    "        mem_c = 1  # current stay point members: just index\n",
    "        \n",
    "        # time diff between current and first members\n",
    "        time_diff = pd.to_timedelta('0s')\n",
    "        \n",
    "        \n",
    "        p_f = geopy.point.Point(latitude=df.iloc[index][lat_c],\n",
    "                                longitude=df.iloc[index][lon_c])\n",
    "\n",
    "        time_f = df.index[index]\n",
    "\n",
    "        j = index + 1\n",
    "        while j < max_len:\n",
    "            p_s = geopy.point.Point(latitude=df.iloc[j][lat_c],\n",
    "                                    longitude=df.iloc[j][lon_c])\n",
    "            \n",
    "            d = geopy.distance.GreatCircleDistance(p_f, p_s).m\n",
    "            if d <= dist_th:\n",
    "                mem_c += 1  # new member\n",
    "                time_diff = df.index[j] - time_f  # update total time spent\n",
    "                j += 1\n",
    "            else:\n",
    "                # spatial constrain is not met\n",
    "                break\n",
    "        \n",
    "        \n",
    "        # Check if previous points met the time threshold constraint\n",
    "        if time_diff >= time_th:\n",
    "            # All these points share same stay point id\n",
    "            stay_points.extend([stay_points_c] * mem_c)\n",
    "            stay_points_c += 1\n",
    "        else:\n",
    "            # these are not valid stay points\n",
    "            stay_points.extend([np.nan] * mem_c)\n",
    "\n",
    "        # points up to j has been considered\n",
    "        index = j\n",
    "          \n",
    "    return stay_points       "
   ]
  },
  {
   "cell_type": "code",
   "execution_count": 18,
   "metadata": {
    "collapsed": true
   },
   "outputs": [],
   "source": [
    "def merge_neighboring_grid(geo_hash):\n",
    "    \"\"\"\n",
    "    Merges neighboring grids using a greedy approach.\n",
    "    \n",
    "    This function sorts each grid by the number by\n",
    "    frequency. A grid G is merged with K, if:\n",
    "        1. G and K is neighboring grid (note that\n",
    "    the definition of neighboring grid depends on\n",
    "    the precision of geohash), and\n",
    "        2. K has higher frequency than G.\n",
    "        \n",
    "    The resulting merged grid retains the geohash\n",
    "    of grid with higher frequency (e.g., in previous\n",
    "    example, the merged grid will have the same geohash\n",
    "    of K).\n",
    "    \n",
    "    Note that this is a greedy approach, so there is\n",
    "    no gurantee that this would result in optimal clustering.\n",
    "    For example, there might be cases in which a more\n",
    "    cascaded merging would be better (e.g., I -> G -> K, but\n",
    "    in our approach I and K might not be merged). However, this\n",
    "    serves to constraint the maximum size of the merged grid\n",
    "    (e.g., 9 grids) at a time, which has been shown to be a\n",
    "    better strategy by Zheng et al. (2010):\n",
    "    http://portal.acm.org/citation.cfm?doid=1772690.1772795\n",
    "    \n",
    "    Parameters\n",
    "    ----------\n",
    "    geo_hash : Series\n",
    "        A series with geo hashed values.\n",
    "        \n",
    "    \n",
    "    Returns\n",
    "    -------\n",
    "    Series\n",
    "        A new series with updated geo hash values\n",
    "        after merging neighboring grids.\n",
    "    \"\"\"\n",
    "    \n",
    "    \n",
    "    c =  Counter(geo_hash.dropna())\n",
    "    d = {}\n",
    "    \n",
    "    # sort by frequency\n",
    "    for z, _ in c.most_common():\n",
    "        # this check is necessary as we remove\n",
    "        # items dynamically\n",
    "        if z in c:\n",
    "            d[z] = z\n",
    "            \n",
    "            # go through the potential merge options\n",
    "            for n in geohash.neighbors(z):\n",
    "                if n in c:\n",
    "                    d[n] = z\n",
    "                    del c[n]  #  merged with grid z\n",
    "                    \n",
    "    return geo_hash.map(d)\n",
    "    "
   ]
  },
  {
   "cell_type": "code",
   "execution_count": 19,
   "metadata": {
    "collapsed": true
   },
   "outputs": [],
   "source": [
    "def get_stay_region(df, stay_point_c='stay_point',\n",
    "                    lat_c='latitude', lon_c='longitude',\n",
    "                    precision=7):\n",
    "    \n",
    "    \"\"\"\n",
    "    Calculates stay regions.\n",
    "    \n",
    "    There are three steps:\n",
    "    \n",
    "    1. First compute the center of stay points.\n",
    "    2. Compute the geohash of stay point centers\n",
    "    3. Merge neighboring grids.\n",
    "    \n",
    "    Parameters\n",
    "    ----------\n",
    "    \n",
    "    df : DataFrame\n",
    "    \n",
    "    stay_point_c : str\n",
    "        Column name with stay point ids. Default\n",
    "        is `stay_point_id`.\n",
    "        \n",
    "    lat_c : str\n",
    "        Column name with latitude values. Default\n",
    "        is `latitude`.\n",
    "        \n",
    "    lon_c : str\n",
    "        Column name for longitude values. Default\n",
    "        is `longitude`.\n",
    "        \n",
    "    precision : int\n",
    "        Geo hash precision. Default is 7.\n",
    "        \n",
    "    Returns\n",
    "    -------\n",
    "    Series\n",
    "        Series with stay regions where a stay region\n",
    "        is defined by a geohash value.\n",
    "    \"\"\"\n",
    "    \n",
    "    centers = {}\n",
    "    for k, v in df.groupby(stay_point_c):\n",
    "        # get stay point centers\n",
    "        center = get_geo_center(v, lat_c=lat_c, lon_c=lon_c)\n",
    "        \n",
    "        # now convert to geo-hash grid\n",
    "        h = geohash.encode(latitude=center['latitude'],\n",
    "                           longitude=center['longitude'],\n",
    "                           precision=precision)\n",
    "        centers[k] = h\n",
    "        \n",
    "    # associate same stay point centers\n",
    "    # to each record\n",
    "    stay_points = df[stay_point_c].map(centers)\n",
    "    \n",
    "    # now convert the stay points to stay regions\n",
    "    return merge_neighboring_grid(stay_points)\n"
   ]
  },
  {
   "cell_type": "code",
   "execution_count": 20,
   "metadata": {
    "collapsed": true
   },
   "outputs": [],
   "source": [
    "def add_subplot_axes(ax, rect, axisbg='w'):\n",
    "    \"\"\"\n",
    "    from http://stackoverflow.com/questions/17458580/embedding-small-plots-inside-subplots-in-matplotlib\n",
    "    example:\n",
    "    \n",
    "        fig = plt.figure(figsize=(10,10))\n",
    "        axes = []\n",
    "        subpos = [0.2,0.6,0.3,0.3]\n",
    "        x = np.linspace(-np.pi,np.pi)\n",
    "        for i in range(4):\n",
    "            axes.append(fig.add_subplot(2,2,i))\n",
    "        for axis in axes:\n",
    "            axis.set_xlim(-np.pi,np.pi)\n",
    "            axis.set_ylim(-1,3)\n",
    "            axis.plot(x,np.sin(x))\n",
    "            subax1 = add_subplot_axes(axis,subpos)\n",
    "            subax2 = add_subplot_axes(subax1,subpos)\n",
    "            subax1.plot(x,np.sin(x))\n",
    "            subax2.plot(x,np.sin(x))\n",
    "    \n",
    "    \"\"\"\n",
    "    fig = plt.gcf()\n",
    "    box = ax.get_position()\n",
    "    width = box.width\n",
    "    height = box.height\n",
    "    inax_position  = ax.transAxes.transform(rect[0:2])\n",
    "    transFigure = fig.transFigure.inverted()\n",
    "    infig_position = transFigure.transform(inax_position)    \n",
    "    x = infig_position[0]\n",
    "    y = infig_position[1]\n",
    "    width *= rect[2]\n",
    "    height *= rect[3]  \n",
    "    subax = fig.add_axes([x,y,width,height],axisbg=axisbg)\n",
    "#     x_labelsize = subax.get_xticklabels()[0].get_size()\n",
    "#     y_labelsize = subax.get_yticklabels()[0].get_size()\n",
    "#     x_labelsize *= rect[2]**0.5\n",
    "#     y_labelsize *= rect[3]**0.5\n",
    "#     subax.xaxis.set_tick_params(labelsize=x_labelsize)\n",
    "#     subax.yaxis.set_tick_params(labelsize=y_labelsize)\n",
    "    return subax"
   ]
  },
  {
   "cell_type": "code",
   "execution_count": 21,
   "metadata": {
    "collapsed": true
   },
   "outputs": [],
   "source": [
    "def get_home_location(df, night_hours=[3,4,5], target_days=range(5)):\n",
    "    \"\"\"\n",
    "    Get the home locations from the the user\n",
    "    \n",
    "    Parameters:\n",
    "    -----------\n",
    "    df: DataFrame\n",
    "        location data with datetime index\n",
    "    \n",
    "    night_hours: list of integers\n",
    "        during which hours to collect locations, default is from 3 to 5 am\n",
    "    \n",
    "    target_days: list of integers\n",
    "        during which days to collect home locations, default is weekdays (0 = Monday, ..., 6 = Sunday)\n",
    "        \n",
    "    Returns:\n",
    "    --------\n",
    "    homes: list of tuples\n",
    "        (lat, lon) for home locations\n",
    "    \n",
    "    home_trajs: list of home trajectories\n",
    "        a list of list, each sublist contains the gps location for one night in time sequence\n",
    "    \n",
    "    \"\"\"\n",
    "    df = df.sort_index()\n",
    "    homes = []\n",
    "    home_trajs = []\n",
    "    df2 = df\n",
    "    df2['date'] = [x.date() for x in df.index]\n",
    "    df2['hour'] = [x.hour for x in df.index]\n",
    "    grouped = df2.groupby('date')\n",
    "    for index,group in grouped:\n",
    "        if index.weekday() in target_days:\n",
    "            ext = group.loc[group['hour'].isin(night_hours)]\n",
    "            if len(ext)>0:\n",
    "                ext = ext.ix[:,['latitude','longitude']].as_matrix()\n",
    "                ext = [tuple(x) for x in ext]\n",
    "                for t in ext:\n",
    "                    homes.append(t)\n",
    "                home_trajs.append(ext)\n",
    "    \n",
    "    return homes, home_trajs\n",
    "        \n",
    "    "
   ]
  },
  {
   "cell_type": "code",
   "execution_count": 22,
   "metadata": {
    "collapsed": true
   },
   "outputs": [],
   "source": [
    "def get_home_location(df, sr_c='stay_region'):\n",
    "    \"\"\"\n",
    "    Get home location\n",
    "    \"\"\"\n",
    "    df2 = df.copy()\n",
    "    df2['hour'] = [x.hour for x in df.index]\n",
    "    t = df2.loc[df2['hour'].isin(list(range(6))),:]\n",
    "    t = t[sr_c].tolist()\n",
    "    c = Counter(t)\n",
    "    return c.most_common()[0][0]"
   ]
  },
  {
   "cell_type": "code",
   "execution_count": 23,
   "metadata": {
    "collapsed": true
   },
   "outputs": [],
   "source": [
    "def get_weekday(df):\n",
    "    \"\"\"\n",
    "    retain weekdays\n",
    "    \"\"\"\n",
    "    weekdays = [0,1,2,3,4]\n",
    "    df2 = df.copy()\n",
    "    df2['dayofweek'] = [x.dayofweek for x in df.index]\n",
    "    return df2.loc[df2['dayofweek'].isin(weekdays),:]"
   ]
  },
  {
   "cell_type": "code",
   "execution_count": 242,
   "metadata": {
    "collapsed": false
   },
   "outputs": [],
   "source": [
    "def to_csv(uid, df, nodes, time_th, dist_th, geohash_prc, rare_point_th=None):\n",
    "    \"\"\"\n",
    "    Write motif analysis data to two csv files.\n",
    "    \n",
    "    Parameters:\n",
    "    -----------\n",
    "    df: DataFrame\n",
    "        user location data, columns = ['latitude', 'longitude', 'time', 'geo_hash', \n",
    "                                        'stay_point', 'stay_region', 'dayofweek']\n",
    "    nodes: List of tuples\n",
    "        nodes returned from generate_daily_nodes()\n",
    "    uid: String\n",
    "        user id\n",
    "    time_th: String\n",
    "        time threshold used in stay point detection\n",
    "    dist_th: Int\n",
    "        distance threshold used in stay point detection\n",
    "    rare_point_th: Float\n",
    "        rare point filter threshold in generate_daily_nodes() function\n",
    "    geohash_prc: Float\n",
    "        geohash precision\n",
    "    \"\"\"\n",
    "    if rare_point_th is None:\n",
    "        rare_point_th = ''\n",
    "    \n",
    "    file_name = '{}-{}-{}-{}-{}'.format(uid, time_th, dist_th, rare_point_th, geohash_prc)\n",
    "    df2 = df.copy()\n",
    "    df2['tzinfo'] = str(df2.index[0].tzinfo)\n",
    "    df2 = df2.tz_convert('UTC')\n",
    "    df2.to_csv(file_name + '-data.csv')\n",
    "    list_df = []\n",
    "    for node in nodes:\n",
    "        n = node[1].copy()\n",
    "        n['timestamp'] = node[0]\n",
    "        n['tz'] = node[0].tz\n",
    "        list_df.append(n)\n",
    "    nodes_df = pd.concat(list_df)\n",
    "    nodes_df.to_csv(file_name + '-nodes.csv')"
   ]
  },
  {
   "cell_type": "code",
   "execution_count": 232,
   "metadata": {
    "collapsed": false
   },
   "outputs": [],
   "source": [
    "def from_csv(uid, time_th, dist_th, geohash_prc, rare_point_th=None):\n",
    "    \"\"\"\n",
    "    Restore motif analysis data from csv files created by to_csv()\n",
    "    \n",
    "    Parameters:\n",
    "    -----------\n",
    "    uid: String\n",
    "        user id\n",
    "    time_th: String\n",
    "        time threshold used in stay point detection\n",
    "    dist_th: Int\n",
    "        distance threshold used in stay point detection\n",
    "    rare_point_th: Float\n",
    "        rare point filter threshold in generate_daily_nodes() function\n",
    "    geohash_prc: Float\n",
    "        geohash precision\n",
    "    \n",
    "    Returns:\n",
    "    --------\n",
    "    df: Dataframe\n",
    "        user data containing columns = ['latitude', 'longitude', 'time', 'geo_hash', \n",
    "                                        'stay_point', 'stay_region', 'dayofweek']\n",
    "    \n",
    "    nodes: List of tuples\n",
    "        nodes returned from generate_daily_nodes()\n",
    "    \"\"\"\n",
    "    \n",
    "    if rare_point_th is None:\n",
    "        rare_point_th = ''\n",
    "    \n",
    "    file_name = '{}-{}-{}-{}-{}'.format(uid, time_th, dist_th, rare_point_th, geohash_prc)\n",
    "    df = pd.DataFrame.from_csv(file_name + '-data.csv')\n",
    "    tz_info = df.tzinfo[0]\n",
    "    df = df.tz_localize('UTC')\n",
    "    df = df.tz_convert(tz_info)\n",
    "    df = df.drop('tzinfo', axis=1)\n",
    "    df.columns = ['latitude', 'longitude', 'time', 'geo_hash', \n",
    "                  'stay_point', 'stay_region', 'dayofweek']\n",
    "\n",
    "    list_nodes = pd.DataFrame.from_csv(file_name + '-nodes.csv')\n",
    "    grouped = list_nodes.groupby('timestamp')\n",
    "    nodes = []\n",
    "    for index, n in grouped:\n",
    "        m_timestamp = pd.Timestamp(n.ix[0,'timestamp'], tz=n.ix[0,'tz'], freq='D')\n",
    "        n = n.drop('timestamp', axis=1)\n",
    "        n = n.drop('tz', axis=1)\n",
    "        node = (m_timestamp, n)\n",
    "        nodes.append(node)\n",
    "    \n",
    "    return df, nodes\n",
    "        "
   ]
  },
  {
   "cell_type": "markdown",
   "metadata": {},
   "source": [
    "--------------------------------------------------------------------------------------------------------------"
   ]
  },
  {
   "cell_type": "markdown",
   "metadata": {},
   "source": [
    "## Individual User"
   ]
  },
  {
   "cell_type": "code",
   "execution_count": 24,
   "metadata": {
    "collapsed": false
   },
   "outputs": [],
   "source": [
    "count_info = pd.read_csv('./precision-7/count_info.csv', usecols=['uid','count']).set_index('uid')"
   ]
  },
  {
   "cell_type": "code",
   "execution_count": 93,
   "metadata": {
    "collapsed": false
   },
   "outputs": [
    {
     "name": "stdout",
     "output_type": "stream",
     "text": [
      "          count\n",
      "uid            \n",
      "u010.csv  33998\n"
     ]
    }
   ],
   "source": [
    "# choose one user to look at\n",
    "test_data = count_info.ix[:1,:]\n",
    "print(test_data)\n",
    "uid = test_data.index[0]"
   ]
  },
  {
   "cell_type": "code",
   "execution_count": 94,
   "metadata": {
    "collapsed": true
   },
   "outputs": [],
   "source": [
    "prefix = './precision-8/'\n",
    "eureka = pd.read_csv(prefix + uid, usecols = ['time','longitude','latitude','geo_hash'])\n",
    "df= eureka.set_index(pd.to_datetime(eureka.time))\n",
    "df = df.tz_localize('America/New_York',ambiguous = [False] * len(df))\n",
    "df = df.sort_index()"
   ]
  },
  {
   "cell_type": "code",
   "execution_count": 95,
   "metadata": {
    "collapsed": false
   },
   "outputs": [],
   "source": [
    "# stay point, stay region detection\n",
    "dist_th = 400\n",
    "time_th = '30m'\n",
    "y = df.copy()\n",
    "y['stay_point'] = get_stay_point(y, dist_th = dist_th,time_th = time_th)\n",
    "y['stay_region'] = get_stay_region(y)"
   ]
  },
  {
   "cell_type": "code",
   "execution_count": 96,
   "metadata": {
    "collapsed": false
   },
   "outputs": [],
   "source": [
    "# home location\n",
    "uhome = get_home_location(y)"
   ]
  },
  {
   "cell_type": "code",
   "execution_count": 230,
   "metadata": {
    "collapsed": false
   },
   "outputs": [],
   "source": [
    "# only need week days\n",
    "y2 = y.copy()\n",
    "y2 = get_weekday(y2)"
   ]
  },
  {
   "cell_type": "code",
   "execution_count": 231,
   "metadata": {
    "collapsed": false
   },
   "outputs": [],
   "source": [
    "# generate daily nodes\n",
    "nodes = generate_daily_nodes(y2.dropna(subset=['stay_region']), 'stay_region',valid_day_th = 8,\n",
    "                                        shift_day_start = pd.to_timedelta('3H'),\n",
    "                                        rare_pt_pct_th = None,\n",
    "                                        home = uhome)"
   ]
  },
  {
   "cell_type": "code",
   "execution_count": 245,
   "metadata": {
    "collapsed": true
   },
   "outputs": [],
   "source": [
    "# write to csv\n",
    "# to_csv(uid, y2, nodes, time_th, dist_th, 8)"
   ]
  },
  {
   "cell_type": "code",
   "execution_count": 247,
   "metadata": {
    "collapsed": false
   },
   "outputs": [],
   "source": [
    "# read from csv\n",
    "# y3,nodes2 = from_csv(uid, time_th, dist_th, 8)"
   ]
  },
  {
   "cell_type": "code",
   "execution_count": 254,
   "metadata": {
    "collapsed": false
   },
   "outputs": [],
   "source": [
    "# filter daily nodes\n",
    "nodes_h = []\n",
    "daily_visited = {}\n",
    "for z in nodes:\n",
    "    list_of_nodes = z[1].node.dropna().tolist()\n",
    "    num_nodes = len(list_of_nodes)\n",
    "    if (num_nodes > 8) and (list_of_nodes[0] == list_of_nodes[-1]):\n",
    "#     if num_nodes > 8:\n",
    "        nodes_h.append(z)\n",
    "        num_unique_nodes = len(np.unique(list_of_nodes))\n",
    "        if num_unique_nodes in daily_visited:\n",
    "            daily_visited[num_unique_nodes] += 1\n",
    "        else:\n",
    "            daily_visited[num_unique_nodes] = 1"
   ]
  },
  {
   "cell_type": "code",
   "execution_count": 255,
   "metadata": {
    "collapsed": false
   },
   "outputs": [
    {
     "data": {
      "text/plain": [
       "{1: 13, 2: 86, 3: 113, 4: 46, 5: 11, 6: 1}"
      ]
     },
     "execution_count": 255,
     "metadata": {},
     "output_type": "execute_result"
    }
   ],
   "source": [
    "daily_visited"
   ]
  },
  {
   "cell_type": "code",
   "execution_count": 256,
   "metadata": {
    "collapsed": false
   },
   "outputs": [],
   "source": [
    "# generate graph\n",
    "graphs = {}\n",
    "single_node_day_index = []\n",
    "sinlge_nodes = []\n",
    "# Equality of generated graphs\n",
    "for index, n in enumerate(nodes_h):\n",
    "    found = False\n",
    "    g = set(generate_graph(n[1].node)) # removes duplicates\n",
    "    dg = nx.DiGraph()\n",
    "    # each node in the edge is seperated by whitespace\n",
    "    dg.add_edges_from([t.split() for t in g]) \n",
    "    \n",
    "    if len(dg.nodes())==0:\n",
    "        dg.add_node(0)\n",
    "        single_node_day_index.append(n[0])\n",
    "        sinlge_nodes.append(n)\n",
    "    dg = nx.freeze(dg)\n",
    "\n",
    "    \n",
    "    for graph in graphs:\n",
    "        if nx.is_isomorphic(graph, dg):\n",
    "            # Found an isomorphic graph\n",
    "            found = True\n",
    "            graphs[graph].append(dg)\n",
    "            break\n",
    "    if not found:\n",
    "        # No isomorphic graph so far, so\n",
    "        # create a new one\n",
    "        graphs[dg] = [dg]"
   ]
  },
  {
   "cell_type": "code",
   "execution_count": 257,
   "metadata": {
    "collapsed": false
   },
   "outputs": [
    {
     "data": {
      "image/png": "[encoded data removed]",
      "text/plain": [
       "<matplotlib.figure.Figure at 0x7faf201da358>"
      ]
     },
     "metadata": {},
     "output_type": "display_data"
    }
   ],
   "source": [
    "d = []\n",
    "for k, v in graphs.items():\n",
    "    d.append({'g': k, 'total': len(v)})\n",
    "\n",
    "d = sorted(d, key=lambda z: z['total'], reverse=True)\n",
    "\n",
    "# Now sort these motifs by node count\n",
    "\n",
    "f = sorted(d[:20], key=lambda z: len(z['g'].nodes()))\n",
    "\n",
    "fig = plt.figure(figsize=(15, 1.5))\n",
    "for index, ff in enumerate(f):\n",
    "    g = ff['g']\n",
    "    ax = fig.add_subplot(1, len(f), index + 1)\n",
    "    nx.draw_spectral(g, ax=ax, node_size=20)"
   ]
  },
  {
   "cell_type": "code",
   "execution_count": 239,
   "metadata": {
    "collapsed": false
   },
   "outputs": [
    {
     "data": {
      "text/plain": [
       "matrix([[ 0.,  1.,  1.,  0.,  1.],\n",
       "        [ 1.,  0.,  0.,  0.,  0.],\n",
       "        [ 0.,  0.,  0.,  1.,  0.],\n",
       "        [ 1.,  0.,  0.,  0.,  0.],\n",
       "        [ 1.,  0.,  0.,  0.,  0.]])"
      ]
     },
     "execution_count": 239,
     "metadata": {},
     "output_type": "execute_result"
    }
   ],
   "source": [
    "nx.to_numpy_matrix(f[-1]['g'])"
   ]
  },
  {
   "cell_type": "code",
   "execution_count": 252,
   "metadata": {
    "collapsed": false
   },
   "outputs": [
    {
     "data": {
      "text/plain": [
       "<Container object of 14 artists>"
      ]
     },
     "execution_count": 252,
     "metadata": {},
     "output_type": "execute_result"
    },
    {
     "data": {
      "image/png": "[encoded data removed]",
      "text/plain": [
       "<matplotlib.figure.Figure at 0x7faf1c023518>"
      ]
     },
     "metadata": {},
     "output_type": "display_data"
    }
   ],
   "source": [
    "x_v = list(range(len(f)))\n",
    "y_v = [x['total']/sum(daily_visited.values())*100 for x in f]\n",
    "plt.bar(x_v, y_v, 0.6)"
   ]
  },
  {
   "cell_type": "code",
   "execution_count": 36,
   "metadata": {
    "collapsed": false
   },
   "outputs": [
    {
     "name": "stdout",
     "output_type": "stream",
     "text": [
      "stay points: 1031, stay regions: 88\n"
     ]
    }
   ],
   "source": [
    "# stay point and region\n",
    "x = y2.ix[:,['latitude','longitude','stay_point']]\n",
    "g = x.groupby('stay_point')\n",
    "sp = {}\n",
    "for name,group in g:\n",
    "    pid = int(name)\n",
    "    cg = group.dropna()\n",
    "    c = get_geo_center(cg, lat_c='latitude', lon_c='longitude')\n",
    "    sp[pid] = (c['latitude'],c['longitude'])\n",
    "\n",
    "sr = {}\n",
    "s = np.unique(y.stay_region.dropna().tolist()).tolist()\n",
    "for p in s:\n",
    "    sr[p] = geohash.decode(p)\n",
    "    \n",
    "print('stay points: {}, stay regions: {}'.format(len(sp),len(sr)))"
   ]
  },
  {
   "cell_type": "code",
   "execution_count": 37,
   "metadata": {
    "collapsed": true
   },
   "outputs": [
    {
     "name": "stdout",
     "output_type": "stream",
     "text": [
      "2015-07-03 : 1\n",
      "2015-08-10 : 1\n",
      "2015-07-06 : 1\n",
      "2015-08-18 : 1\n",
      "2015-11-26 : 1\n",
      "2016-03-11 : 1\n",
      "2016-01-01 : 1\n",
      "2015-09-07 : 1\n",
      "2015-07-30 : 1\n",
      "2015-11-24 : 1\n",
      "2015-08-11 : 1\n",
      "2015-04-15 : 1\n",
      "2016-01-22 : 1\n",
      "\n",
      "Weekday single node motif: 13\n"
     ]
    }
   ],
   "source": [
    "# single node motif\n",
    "dayofweekstr = {0:'Monday', 1:'Tuesday', 2:'Wednesday', 3:'Thursday', 4:'Friday', 5:'Saturday', 6:'Sunday'}\n",
    "single_node = [d.date() for d in single_node_day_index]\n",
    "weekdays = [0,1,2,3,4]\n",
    "dow = [dayofweekstr[x.weekday()] for x in single_node]\n",
    "cw = Counter(single_node)\n",
    "d = []\n",
    "for c in cw:\n",
    "    d.append({'dayofweek':c,'count':cw[c]})\n",
    "d = sorted(d, key=lambda x: x['count'],reverse = True)\n",
    "for i in d:\n",
    "    print('{} : {}'.format(i['dayofweek'],i['count']))\n",
    "\n",
    "weekday_single_node = [x for x in single_node if x.weekday() in weekdays]\n",
    "print('\\nWeekday single node motif: {}'.format(len(weekday_single_node)))"
   ]
  },
  {
   "cell_type": "code",
   "execution_count": 41,
   "metadata": {
    "collapsed": true
   },
   "outputs": [
    {
     "name": "stdout",
     "output_type": "stream",
     "text": [
      "\n",
      "Date: 2015-04-15 Wednesday\n",
      "\n",
      "Number of data entry: 94  --  97.92(%)\n",
      "\n",
      "stay point:\n",
      "  [(40.72422733563217, -73.69064962988506)]\n",
      "\n",
      "\n",
      "stay region:\n",
      "  [(40.72425842285156, -73.69010925292969)]\n",
      "\n",
      "\n",
      "Date: 2015-07-03 Friday\n",
      "\n",
      "Number of data entry: 96  --  100.0(%)\n",
      "\n",
      "stay point:\n",
      "  [(40.7242425601626, -73.6907133495935)]\n",
      "\n",
      "\n",
      "stay region:\n",
      "  [(40.72425842285156, -73.69010925292969)]\n",
      "\n",
      "\n",
      "Date: 2015-07-06 Monday\n",
      "\n",
      "Number of data entry: 95  --  98.96(%)\n",
      "\n",
      "stay point:\n",
      "  [(40.724214185606066, -73.6907825189394)]\n",
      "\n",
      "\n",
      "stay region:\n",
      "  [(40.72425842285156, -73.69010925292969)]\n",
      "\n",
      "\n",
      "Date: 2015-07-30 Thursday\n",
      "\n",
      "Number of data entry: 67  --  69.79(%)\n",
      "\n",
      "stay point:\n",
      "  [(40.724243719417466, -73.69070299417476)]\n",
      "\n",
      "\n",
      "stay region:\n",
      "  [(40.72425842285156, -73.69010925292969)]\n",
      "\n",
      "\n",
      "Date: 2015-08-10 Monday\n",
      "\n",
      "Number of data entry: 93  --  96.88(%)\n",
      "\n",
      "stay point:\n",
      "  [(40.72425530592593, -73.69059181629633)]\n",
      "\n",
      "\n",
      "stay region:\n",
      "  [(40.72425842285156, -73.69010925292969)]\n",
      "\n",
      "\n",
      "Date: 2015-08-11 Tuesday\n",
      "\n",
      "Number of data entry: 88  --  91.67(%)\n",
      "\n",
      "stay point:\n",
      "  [(40.72425530592593, -73.69059181629633), (40.72426196428571, -73.6907057857143), (40.72421725000001, -73.69074218846153)]\n",
      "\n",
      "\n",
      "stay region:\n",
      "  [(40.72425842285156, -73.69010925292969)]\n",
      "\n",
      "\n",
      "Date: 2015-08-18 Tuesday\n",
      "\n",
      "Number of data entry: 54  --  56.25(%)\n",
      "\n",
      "stay point:\n",
      "  [(43.12332837307693, -72.29515976794872)]\n",
      "\n",
      "\n",
      "stay region:\n",
      "  [(43.12339782714844, -72.29484558105469)]\n",
      "\n",
      "\n",
      "Date: 2015-09-07 Monday\n",
      "\n",
      "Number of data entry: 89  --  92.71(%)\n",
      "\n",
      "stay point:\n",
      "  [(40.72423705, -73.69073766304348), (40.72424508266667, -73.69071027066667)]\n",
      "\n",
      "\n",
      "stay region:\n",
      "  [(40.72425842285156, -73.69010925292969)]\n",
      "\n",
      "\n",
      "Date: 2015-11-24 Tuesday\n",
      "\n",
      "Number of data entry: 79  --  82.29(%)\n",
      "\n",
      "stay point:\n",
      "  [(40.724254906896554, -73.69074656551723)]\n",
      "\n",
      "\n",
      "stay region:\n",
      "  [(40.72425842285156, -73.69010925292969)]\n",
      "\n",
      "\n",
      "Date: 2015-11-26 Thursday\n",
      "\n",
      "Number of data entry: 94  --  97.92(%)\n",
      "\n",
      "stay point:\n",
      "  [(42.01164970872093, -71.31848594302326)]\n",
      "\n",
      "\n",
      "stay region:\n",
      "  [(42.01103210449219, -71.31843566894531)]\n",
      "\n",
      "\n",
      "Date: 2016-01-01 Friday\n",
      "\n",
      "Number of data entry: 95  --  98.96(%)\n",
      "\n",
      "stay point:\n",
      "  [(40.72421492585034, -73.69067034353743)]\n",
      "\n",
      "\n",
      "stay region:\n",
      "  [(40.72425842285156, -73.69010925292969)]\n",
      "\n",
      "\n",
      "Date: 2016-01-22 Friday\n",
      "\n",
      "Number of data entry: 95  --  98.96(%)\n",
      "\n",
      "stay point:\n",
      "  [(40.72421684805195, -73.69066939545455)]\n",
      "\n",
      "\n",
      "stay region:\n",
      "  [(40.72425842285156, -73.69010925292969)]\n",
      "\n",
      "\n",
      "Date: 2016-03-11 Friday\n",
      "\n",
      "Number of data entry: 95  --  98.96(%)\n",
      "\n",
      "stay point:\n",
      "  [(40.72423510331126, -73.69071908675497)]\n",
      "\n",
      "\n",
      "stay region:\n",
      "  [(40.72425842285156, -73.69010925292969)]\n",
      "\n"
     ]
    }
   ],
   "source": [
    "for d in weekday_single_node:\n",
    "#     d = weekday_single_node[12]\n",
    "    df2 = y2.copy()\n",
    "    df2['date'] = [t.date() for t in df2.index]\n",
    "    cd = df2.loc[df2['date'] == d]\n",
    "    locs = cd.ix[:,['latitude','longitude']].as_matrix()\n",
    "    locs = [tuple(x) for x in locs]\n",
    "    sp_id = np.unique(cd.stay_point.dropna().apply(int).tolist())\n",
    "    sp_p = [sp[i] for i in sp_id]\n",
    "    sr_geohash = np.unique(cd.stay_region.dropna().tolist())\n",
    "    sr_p = [sr[i] for i in sr_geohash]\n",
    "    print('\\nDate: {} {}'.format(d,dayofweekstr[d.weekday()]))\n",
    "    print('\\nNumber of data entry: {}  --  {}(%)'.format(len(cd), round(len(cd)/(24/0.25)*100,2)))\n",
    "    print('\\nstay point:\\n  {}\\n'.format(sp_p))\n",
    "    print('\\nstay region:\\n  {}\\n'.format(sr_p))"
   ]
  },
  {
   "cell_type": "code",
   "execution_count": 278,
   "metadata": {
    "collapsed": true
   },
   "outputs": [],
   "source": [
    "m2 = folium.Map(location = locs[0])\n",
    "folium.PolyLine(locs, color=\"red\", weight=2.5, opacity=1).add_to(m2)\n",
    "for p in sp_p:\n",
    "    folium.CircleMarker(p, radius = 5, color = 'blue', fill_color = 'blue').add_to(m2)\n",
    "for p in sr_p:\n",
    "    folium.Marker(location = p, icon = folium.Icon(color = 'red',icon = 'info-sign')).add_to(m2)\n",
    "m2.save('map2.html')"
   ]
  },
  {
   "cell_type": "code",
   "execution_count": 279,
   "metadata": {
    "collapsed": true
   },
   "outputs": [
    {
     "data": {
      "text/html": [
       "<iframe width = '100%' height = \"500\" src = 'map2.html'></iframe>"
      ],
      "text/plain": [
       "<IPython.core.display.HTML object>"
      ]
     },
     "metadata": {},
     "output_type": "display_data"
    }
   ],
   "source": [
    "%%HTML\n",
    "<iframe width = '100%' height = \"500\" src = 'map2.html'></iframe>"
   ]
  },
  {
   "cell_type": "code",
   "execution_count": 280,
   "metadata": {
    "collapsed": true
   },
   "outputs": [
    {
     "data": {
      "text/plain": [
       "array(['dr5xejs'], \n",
       "      dtype='<U7')"
      ]
     },
     "execution_count": 280,
     "metadata": {},
     "output_type": "execute_result"
    },
    {
     "data": {
      "image/png": "[encoded data removed]",
      "text/plain": [
       "<matplotlib.figure.Figure at 0x7fca11b9d3c8>"
      ]
     },
     "metadata": {},
     "output_type": "display_data"
    }
   ],
   "source": [
    "d2 = pd.datetime(2015,8,13,0,0,0,0,pytz.timezone('America/New_York')).date()\n",
    "for i in nodes_h:\n",
    "    if i[0].date()==d2:\n",
    "        dnodes = i\n",
    "        break\n",
    "if type(dnodes)!='int':\n",
    "    g = set(generate_graph(n[1].node)) # removes duplicates\n",
    "    dg = nx.Graph()\n",
    "    # each node in the edge is seperated by whitespace\n",
    "    dg.add_edges_from([t.split() for t in g]) \n",
    "    if len(dg.nodes())==0:\n",
    "           dg.add_node(0)\n",
    "    dg = nx.freeze(dg)\n",
    "    nx.draw_spectral(dg, node_size=30)\n",
    "# print(dnodes)\n",
    "np.unique(dnodes[1].node.dropna().tolist())"
   ]
  },
  {
   "cell_type": "markdown",
   "metadata": {},
   "source": [
    "## Multiple User"
   ]
  },
  {
   "cell_type": "code",
   "execution_count": 44,
   "metadata": {
    "collapsed": false
   },
   "outputs": [
    {
     "name": "stdout",
     "output_type": "stream",
     "text": [
      "['u010.csv', 'u021.csv', 'u015.csv', 'u014.csv', 'u022.csv']\n"
     ]
    }
   ],
   "source": [
    "count_info = pd.read_csv('./precision-7/count_info.csv', usecols=['uid','count']).set_index('uid')\n",
    "test_data = count_info.ix[:5,:]\n",
    "test_data = test_data.index.tolist()\n",
    "prefix = './precision-8/'\n",
    "print(test_data)"
   ]
  },
  {
   "cell_type": "code",
   "execution_count": 45,
   "metadata": {
    "collapsed": false
   },
   "outputs": [
    {
     "name": "stdout",
     "output_type": "stream",
     "text": [
      "{1: 502, 2: 496, 3: 171, 4: 30, 5: 4}\n"
     ]
    }
   ],
   "source": [
    "dist_th = 400\n",
    "time_th = '30m'\n",
    "\n",
    "graphs_m = {}\n",
    "daily_visited_m = {}\n",
    "for fid in test_data:\n",
    "    eureka = pd.read_csv(prefix + fid, usecols = ['time','longitude','latitude','geo_hash'])\n",
    "    df= eureka.set_index(pd.to_datetime(eureka.time))\n",
    "    df = df.tz_localize('America/New_York',ambiguous = [False] * len(df))\n",
    "    df = df.sort_index()\n",
    "        \n",
    "    y = df.copy()\n",
    "    y['stay_point'] = get_stay_point(y, dist_th = dist_th,time_th = time_th)\n",
    "    y['stay_region'] = get_stay_region(y)\n",
    "\n",
    "    # home location\n",
    "    uhome = get_home_location(y)\n",
    "    \n",
    "    # only need week days\n",
    "    y2 = y.copy()\n",
    "    y2 = get_weekday(y2)\n",
    "    \n",
    "    nodes = generate_daily_nodes(y2.dropna(subset=['stay_region']), 'stay_region',valid_day_th = 8,\n",
    "                                        shift_day_start = pd.to_timedelta('3H'),\n",
    "                                        home = uhome)\n",
    "\n",
    "    # filter daily nodes\n",
    "    nodes_h = []\n",
    "    for z in nodes:\n",
    "        list_of_nodes = z[1].node.dropna().tolist()\n",
    "        num_nodes = len(list_of_nodes)\n",
    "        if (num_nodes > 16) and (list_of_nodes[0] == list_of_nodes[-1]):\n",
    "#         if num_nodes > 8:\n",
    "            nodes_h.append(z)\n",
    "            num_unique_nodes = len(np.unique(list_of_nodes))\n",
    "            if num_unique_nodes in daily_visited_m:\n",
    "                daily_visited_m[num_unique_nodes] += 1\n",
    "            else:\n",
    "                daily_visited_m[num_unique_nodes] = 1\n",
    "    \n",
    "    \n",
    "    # Equality of generated graphs\n",
    "    for index, n in enumerate(nodes_h):\n",
    "        found = False\n",
    "        g = set(generate_graph(n[1].node)) # removes duplicates\n",
    "        dg = nx.DiGraph()\n",
    "        # each node in the edge is seperated by whitespace\n",
    "        dg.add_edges_from([t.split() for t in g]) \n",
    "        dg = nx.freeze(dg)\n",
    "\n",
    "        for graph in graphs_m:\n",
    "            if nx.is_isomorphic(graph, dg):\n",
    "                # Found an isomorphic graph\n",
    "                found = True\n",
    "                graphs_m[graph].append(dg)\n",
    "                break\n",
    "        if not found:\n",
    "            # No isomorphic graph so far, so\n",
    "            # create a new one\n",
    "            graphs_m[dg] = [dg]\n",
    "                \n",
    "print(daily_visited_m)\n"
   ]
  },
  {
   "cell_type": "code",
   "execution_count": 46,
   "metadata": {
    "collapsed": false
   },
   "outputs": [
    {
     "data": {
      "image/png": "[encoded data removed]",
      "text/plain": [
       "<matplotlib.figure.Figure at 0x7fc696f8d8d0>"
      ]
     },
     "metadata": {},
     "output_type": "display_data"
    }
   ],
   "source": [
    "# Sort by motif frequency\n",
    "d = []\n",
    "for k, v in graphs.items():\n",
    "    d.append({'g': k, 'total': len(v)})\n",
    "\n",
    "d = sorted(d, key=lambda z: z['total'], reverse=True)\n",
    "\n",
    "# Now sort these motifs by node count\n",
    "\n",
    "f = sorted(d[:20], key=lambda z: len(z['g'].nodes()))\n",
    "fig = plt.figure(figsize=(15, 1.5))\n",
    "for index, ff in enumerate(f):\n",
    "    g = ff['g']\n",
    "    ax = fig.add_subplot(1, len(f), index + 1)\n",
    "    nx.draw_spectral(g, ax=ax, node_size=20)"
   ]
  },
  {
   "cell_type": "code",
   "execution_count": 47,
   "metadata": {
    "collapsed": false
   },
   "outputs": [
    {
     "data": {
      "text/plain": [
       "<Container object of 14 artists>"
      ]
     },
     "execution_count": 47,
     "metadata": {},
     "output_type": "execute_result"
    },
    {
     "data": {
      "image/png": "[encoded data removed]",
      "text/plain": [
       "<matplotlib.figure.Figure at 0x7fc696f7aac8>"
      ]
     },
     "metadata": {},
     "output_type": "display_data"
    }
   ],
   "source": [
    "x_v = list(range(len(f)))\n",
    "y_v = [x['total'] for x in f]\n",
    "plt.bar(x_v, y_v, 0.6)"
   ]
  }
 ],
 "metadata": {
  "kernelspec": {
   "display_name": "Python 3",
   "language": "python",
   "name": "python3"
  },
  "language_info": {
   "codemirror_mode": {
    "name": "ipython",
    "version": 3
   },
   "file_extension": ".py",
   "mimetype": "text/x-python",
   "name": "python",
   "nbconvert_exporter": "python",
   "pygments_lexer": "ipython3",
   "version": "3.5.2"
  }
 },
 "nbformat": 4,
 "nbformat_minor": 0
}
