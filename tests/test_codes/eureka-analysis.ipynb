{
 "cells": [
  {
   "cell_type": "code",
   "execution_count": 1,
   "metadata": {
    "collapsed": false
   },
   "outputs": [],
   "source": [
    "from locationutil import *"
   ]
  },
  {
   "cell_type": "code",
   "execution_count": 2,
   "metadata": {
    "collapsed": true
   },
   "outputs": [],
   "source": [
    "%matplotlib inline"
   ]
  },
  {
   "cell_type": "code",
   "execution_count": 3,
   "metadata": {
    "collapsed": false
   },
   "outputs": [],
   "source": [
    "from copy import deepcopy\n",
    "from collections import Counter\n",
    "from math import radians, cos, sin, asin, sqrt\n",
    "from IPython.display import display\n",
    "from scipy.spatial.distance import pdist\n",
    "from geopy.distance import vincenty"
   ]
  },
  {
   "cell_type": "code",
   "execution_count": 4,
   "metadata": {
    "collapsed": false
   },
   "outputs": [],
   "source": [
    "class Userdata:\n",
    "\n",
    "    def __init__(self, uid, df, nodes, time_th, dist_th, rare_point_th, geohash_prc, trav_dist_th=50000):\n",
    "        self.uid = uid\n",
    "        self.df = df.copy()\n",
    "        self.nodes = deepcopy(nodes)\n",
    "        self.dist_th = dist_th\n",
    "        self.time_th = time_th\n",
    "        self.rare_point_th = rare_point_th\n",
    "        self.geohash_prc = geohash_prc\n",
    "        self.daily_data = []\n",
    "        self.home = approx_home_location(df)\n",
    "        self.motifs = []\n",
    "        self.ploted_motifs = None\n",
    "        self.trav_dist_th = trav_dist_th\n",
    "        self.num_visited_location = []\n",
    "        \n",
    "        # stay point and stay region\n",
    "        x = df.ix[:,['latitude','longitude','stay_point']]\n",
    "        g = x.groupby('stay_point')\n",
    "        self.stay_points = {}\n",
    "        for name,group in g:\n",
    "            pid = int(name)\n",
    "            cg = group.dropna()\n",
    "            c = get_geo_center(cg, lat_c='latitude', lon_c='longitude')\n",
    "            self.stay_points[pid] = (c['latitude'],c['longitude'])\n",
    "        \n",
    "        self.stay_region = {}\n",
    "        s = np.unique(df.stay_region.dropna().tolist()).tolist()\n",
    "        for p in s:\n",
    "            self.stay_region[p] = geohash.decode(p)\n",
    "        \n",
    "        # slice data into daily_data \n",
    "        for n in nodes:\n",
    "            t_start = n[0]\n",
    "            t_end = t_start + pd.to_timedelta('1D')\n",
    "            df_s = df.loc[(df.index >= t_start) & (df.index <t_end)]\n",
    "            self.daily_data.append(DailyData(self, t_start, n[1], df_s))\n",
    "        \n",
    "    def plot_daily_visited_locations(self, ax=None):\n",
    "        return plot_daily_visited_locations(self.motifs, ax)\n",
    "    \n",
    "    def get_date(self, date):\n",
    "        \"\"\"\n",
    "        Get the data for one specific date. Return None if data does not exist. \n",
    "        \"\"\"\n",
    "        for d in self.daily_data:\n",
    "            if date==d.date:\n",
    "                return d\n",
    "        return None\n",
    "        \n",
    "        \n",
    "    \n",
    "    def reset(self):\n",
    "        for d in self.daily_data:\n",
    "            d.reset()\n",
    "    \n",
    "    def insert_home(self):\n",
    "        for d in self.daily_data:\n",
    "            d.insert_home(self.home)\n",
    "    \n",
    "    def sort_motif_by_freq(self):\n",
    "        self.motifs.sort(key=lambda x:len(x['data']), reverse=True)\n",
    "        \n",
    "    def sort_motif_by_nodes(self):\n",
    "        self.motifs.sort(key=lambda x:len(x['graph'].nodes()))\n",
    "    \n",
    "    def generate_motifs(self, inst_home=True, round_trip=True, \n",
    "                       dayofweek=[0,1,2,3,4], trav_dist_th=50000, valid_timeslot_th=8):\n",
    "        \"\"\"\n",
    "        Generate motifs.\n",
    "        \n",
    "        Parameters:\n",
    "        -----------\n",
    "        inst_home: bool\n",
    "            whether to insert home location\n",
    "        \"\"\"\n",
    "        \n",
    "        self.motifs = [] \n",
    "        \n",
    "        for d in self.daily_data:\n",
    "            \n",
    "            # generate motifs\n",
    "            m = d.generate_motif(round_trip=round_trip, insert_home=inst_home, \n",
    "                                 dayofweek=dayofweek, trav_dist_th=trav_dist_th, \n",
    "                                 valid_timeslot_th=valid_timeslot_th)\n",
    "                \n",
    "            # check equality of motifs\n",
    "            if m is not None:\n",
    "                \n",
    "                found = False\n",
    "                \n",
    "                for item in self.motifs:\n",
    "                    if nx.is_isomorphic(item['graph'],m):\n",
    "                        item['data'].append(d)\n",
    "                        found = True\n",
    "                        break\n",
    "                        \n",
    "                if not found:\n",
    "                    self.motifs.append({'graph':m,'data':[d]})\n",
    "                    \n",
    "        # sort motifs by frequency\n",
    "        self.sort_motif_by_freq()\n",
    "    \n",
    "    def plot_all_motifs(self):\n",
    "        num_motif = len(self.motifs)\n",
    "        if num_motif > 0:\n",
    "            self.sort_motif_by_freq()\n",
    "            fig = plt.figure(figsize=(2*num_motif, 2))\n",
    "            p = 1\n",
    "            for item in self.motifs:\n",
    "                g = item['graph']\n",
    "                ax = fig.add_subplot(1,num_motif,p)\n",
    "                nx.draw_spectral(g, ax=ax, node_size=10)\n",
    "                p += 1\n",
    "            return fig\n",
    "        else:\n",
    "            return None\n",
    "        \n",
    "        \n",
    "    def plot_motifs(self):\n",
    "        \"\"\"\n",
    "        Plot 20 most frequent motifs sorted by number of nodes.\n",
    "        \"\"\"\n",
    "        num_motif = len(self.motifs)\n",
    "        if num_motif > 0:\n",
    "            self.sort_motif_by_freq()\n",
    "            motifs = deepcopy(self.motifs)\n",
    "            motifs = motifs[:20]\n",
    "            motifs = sort_motif_by_nodes(motifs)\n",
    "            self.ploted_motifs = motifs\n",
    "            \n",
    "            fig = plt.figure(figsize=(20, 5))\n",
    "            ax = fig.add_subplot(1,1,1)\n",
    "            ax = plot_motifs(ax, motifs)\n",
    "            return fig\n",
    "        else:\n",
    "            return None\n",
    "        \n",
    "    def get_motif(self, idx):\n",
    "        if (self.ploted_motifs is None) or (idx > len(self.motifs)):\n",
    "            print(self.ploted_motifs)\n",
    "            print(len(self.motifs), idx)\n",
    "            return None\n",
    "        else:\n",
    "            return self.ploted_motifs[idx-1]\n",
    "        \n",
    "    def get_day(self, date):\n",
    "        for d in self.daily_data:\n",
    "            if d.date == date:\n",
    "                return d\n",
    "        return None\n",
    "            \n",
    "    def export_motifs(self):\n",
    "        if len(self.motifs) > 0:\n",
    "            exp_m = []\n",
    "            info_prefix = {'id':self.uid, \n",
    "                           'time_th':self.time_th, \n",
    "                           'dist_th':self.dist_th, \n",
    "                           'geohash_prc':self.geohash_prc, \n",
    "                           'rare_point_th':self.rare_point_th}\n",
    "            for m in self.motifs:\n",
    "                m_temp = {'graph':m['graph'].copy()}\n",
    "                m_temp['data'] = []\n",
    "                for d in m['data']:\n",
    "                    info_t = info_prefix.copy()\n",
    "                    info_t['date'] = str(d.date)\n",
    "                    m_temp['data'].append(info_t)\n",
    "                exp_m.append(m_temp)\n",
    "            return exp_m\n",
    "        else:\n",
    "            return None\n",
    "    \n",
    "    def plot_stay_points(self):\n",
    "        \n",
    "        map1 = folium.Map(location = geohash.decode(self.home))\n",
    "        for p in self.stay_points.values():\n",
    "#             folium.Marker(location = p, icon = folium.Icon(color = 'blue',icon = 'info-sign')).add_to(map1)\n",
    "            folium.CircleMarker(p, radius=self.dist_th/2, color='green', fill_color='green').add_to(map1)\n",
    "        \n",
    "        sr_geohash = list(self.stay_region.keys())\n",
    "        # plot stay region\n",
    "        for p in sr_geohash:\n",
    "            grids = geohash.neighbors(p)\n",
    "            grids.append(p)\n",
    "            grid_box = [geohash.bbox(u) for u in grids]\n",
    "            box_df = pd.DataFrame(grid_box)\n",
    "            e = max(box_df.e)\n",
    "            n = max(box_df.n)\n",
    "            s = min(box_df.s)\n",
    "            w = min(box_df.w)\n",
    "            sw = (w,s)\n",
    "            se = (e,s)\n",
    "            ne = (e,n)\n",
    "            nw = (w,n)\n",
    "            gj = folium.GeoJson({ \"type\": \"Polygon\", \n",
    "                                 \"coordinates\": [[sw,se,ne,nw]]})\n",
    "            # stay region size\n",
    "            w = vincenty((n,w),(n,e)).meters\n",
    "            h = vincenty((n,w),(s,w)).meters\n",
    "            gj.add_children(folium.Popup('Witdh: {}m, Height: {}m'.format(w, h)))\n",
    "            gj.add_to(map1)\n",
    "        \n",
    "        for p in list(self.stay_region.values()):\n",
    "            folium.CircleMarker(p, radius=2, color='yellow', fill_color='yellow').add_to(map1)\n",
    "            \n",
    "        # plot home location\n",
    "        folium.Marker(location=geohash.decode(self.home), popup='Home', icon=folium.Icon(color='red')).add_to(map1)\n",
    "        \n",
    "        return map1\n",
    "        "
   ]
  },
  {
   "cell_type": "code",
   "execution_count": 5,
   "metadata": {
    "collapsed": true
   },
   "outputs": [],
   "source": [
    "def sort_motif_by_freq(motifs):\n",
    "    m = deepcopy(motifs)\n",
    "    m.sort(key=lambda x:len(x['data']), reverse=True)\n",
    "    return m"
   ]
  },
  {
   "cell_type": "code",
   "execution_count": 6,
   "metadata": {
    "collapsed": true
   },
   "outputs": [],
   "source": [
    "def sort_motif_by_nodes(motifs):\n",
    "    m = deepcopy(motifs)\n",
    "    m.sort(key=lambda x:len(x['graph'].nodes()))\n",
    "    return m"
   ]
  },
  {
   "cell_type": "code",
   "execution_count": 7,
   "metadata": {
    "collapsed": false
   },
   "outputs": [],
   "source": [
    "class DailyData:\n",
    "    \n",
    "    def __init__(self, parent, timestp, nodes, raw_data):\n",
    "        \"\"\"\n",
    "        Constructor\n",
    "        \n",
    "        Parameters:\n",
    "        -----------\n",
    "        timestp: timestamp\n",
    "            start of the day\n",
    "        nodes: list of DataFrame\n",
    "            nodes information\n",
    "        raw_data: DataFrame\n",
    "            raw location data\n",
    "        \"\"\"\n",
    "        self.parent = parent\n",
    "        self.date = timestp.date()\n",
    "        self.start_time = timestp\n",
    "        self.nodes = deepcopy(nodes)\n",
    "        self.nodes_bk = self.nodes.node.tolist()[0]\n",
    "        self.raw_data = raw_data.copy()\n",
    "        self.motif = None\n",
    "        locs = np.unique(self.nodes.node.dropna().tolist())\n",
    "        locs = [geohash.decode(x) for x in locs]\n",
    "        if len(locs)>0:\n",
    "            self.dist_matrix = pdist(locs, lambda x,y: vincenty(x,y).meters)\n",
    "        else:\n",
    "            self.dist_matrix = []\n",
    "        \n",
    "    def reset(self):\n",
    "        \"\"\"\n",
    "        Reset nodes inforamtion (remove home location if inserted).\n",
    "        Reset self.motif to None.\n",
    "        \"\"\"\n",
    "        self.nodes.ix[0,'node'] = self.nodes_bk\n",
    "        self.motif = None\n",
    "    \n",
    "    def get_daily_visited_location(self):\n",
    "        \"\"\"\n",
    "        Return two daily vidisted location count: one from raw data and one from daily nodes\n",
    "        \"\"\"\n",
    "        from_raw_data = len(self.raw_data.stay_region.tolist())\n",
    "        from_daily_nodes = len(self.nodes)\n",
    "        return len(self.nodes.dropna())\n",
    "    \n",
    "    def generate_motif(self, round_trip=True, insert_home=True, \n",
    "                   dayofweek=[0,1,2,3,4], trav_dist_th=None, valid_timeslot_th=8):\n",
    "        \"\"\"\n",
    "        Return daily motif. Return None if this day's data is ignored.\n",
    "        \n",
    "        Parameters:\n",
    "        -----------\n",
    "        \n",
    "        Returns:\n",
    "        --------\n",
    "        motifs: list of dictionaries\n",
    "        \n",
    "        num_visited: int\n",
    "        \"\"\"\n",
    "        self.reset()\n",
    "        \n",
    "        \n",
    "        if self.date.weekday() not in dayofweek:\n",
    "            return None\n",
    "        \n",
    "        list_nodes = self.nodes.node.dropna().tolist()\n",
    "        \n",
    "        # only continue if there are enough valid time slots\n",
    "        if len(list_nodes) <= valid_timeslot_th:\n",
    "            return None\n",
    "        \n",
    "        # check if contains abnormal travel distance\n",
    "        if len(self.dist_matrix)>0 and (max(self.dist_matrix) > trav_dist_th):\n",
    "            return None\n",
    "        \n",
    "        # insert home\n",
    "        if insert_home and (type(self.nodes.ix[0,'node']) is not str):\n",
    "            list_nodes.insert(0,self.parent.home)\n",
    "            \n",
    "        # check if the day starts and ends at the same day\n",
    "        if round_trip and (list_nodes[0] != list_nodes[-1]):\n",
    "            return None\n",
    "    \n",
    "        # generate motifs\n",
    "        g = nx.DiGraph()\n",
    "        g.add_nodes_from(list_nodes)\n",
    "        for i in range(1,len(list_nodes)):\n",
    "            if list_nodes[i] != list_nodes[i-1]:\n",
    "                g.add_edge(list_nodes[i-1],list_nodes[i])\n",
    "        self.motif = nx.freeze(g)\n",
    "        return self.motif\n",
    "    \n",
    "    def plot_motif(self):\n",
    "        if self.motif is not None:\n",
    "            fig = plt.figure(figsize=(2, 2))\n",
    "            ax = fig.add_subplot(1,1,1)\n",
    "            nx.draw_spectral(self.motif, ax=ax, node_size=30)\n",
    "            return fig\n",
    "        else:\n",
    "            return None\n",
    "    \n",
    "    def has_long_trip(self, trav_dist_th=None):\n",
    "        if trav_dist_th is None:\n",
    "            trav_dist_th = self.parent.trav_dist_th\n",
    "        return len(self.dist_matrix)>0 and (max(self.dist_matrix) > trav_dist_th)\n",
    "    \n",
    "    def draw_traj(self):\n",
    "        \"\"\"\n",
    "        Display mobility data on a map. Blue lines are constructed from raw data. Red lines are processed data.\n",
    "        \"\"\"\n",
    "        # draw raw location data in blue lines\n",
    "        locs = self.raw_data.ix[:,['latitude','longitude']].as_matrix()\n",
    "        locs = [tuple(x) for x in locs]\n",
    "        \n",
    "        m1 = folium.Map(location = locs[0])\n",
    "        folium.PolyLine(locs, color=\"blue\", weight=3, opacity=0.9).add_to(m1)\n",
    "        \n",
    "        for i in range(len(locs)):\n",
    "            hour = self.raw_data.index[i].hour\n",
    "            minute = self.raw_data.index[i].minute\n",
    "            timestr = \"{}:{}\".format(hour, minute)\n",
    "            folium.CircleMarker(location=locs[i], radius=5, \n",
    "                               color ='yellow', fill_color='yellow', popup=timestr).add_to(m1)\n",
    "        \n",
    "        # plot stay points/region\n",
    "        sp_id = np.unique(self.raw_data.stay_point.dropna().apply(int).tolist())\n",
    "        sp_p = [self.parent.stay_points[i] for i in sp_id]\n",
    "        sr_geohash = np.unique(self.raw_data.stay_region.dropna().tolist())\n",
    "        sr_p = [self.parent.stay_region[i] for i in sr_geohash]\n",
    "        # plot stay point\n",
    "        for p in sp_p:\n",
    "            folium.CircleMarker(location=p, radius=self.parent.dist_th/2, color ='green', fill_color='green').add_to(m1)\n",
    "        # plot the bonding box of each stay region\n",
    "        # for p in sr_p:\n",
    "        #     folium.Marker(location=p, icon=folium.Icon(color='red',icon='info-sign')).add_to(m1)\n",
    "        for p in sr_geohash:\n",
    "            grids = geohash.neighbors(p)\n",
    "            grids.append(p)\n",
    "            grid_box = [geohash.bbox(u) for u in grids]\n",
    "            box_df = pd.DataFrame(grid_box)\n",
    "            e = max(box_df.e)\n",
    "            n = max(box_df.n)\n",
    "            s = min(box_df.s)\n",
    "            w = min(box_df.w)\n",
    "            sw = (w,s)\n",
    "            se = (e,s)\n",
    "            ne = (e,n)\n",
    "            nw = (w,n)\n",
    "            gj = folium.GeoJson({ \"type\": \"Polygon\", \"coordinates\": [[sw,se,ne,nw]]})\n",
    "            gj.add_children(folium.Popup(\"Stay region\"))\n",
    "            gj.add_to(m1)\n",
    "        \n",
    "        # draw motif data in red lines\n",
    "        if self.motif is not None:\n",
    "            edges = self.motif.edges()\n",
    "            locs2 = []\n",
    "            for e in edges:\n",
    "                locs2.append(geohash.decode(e[0]))\n",
    "                locs2.append(geohash.decode(e[1]))\n",
    "            folium.PolyLine(locs2, color=\"red\", weight=5, opacity=0.9).add_to(m1)\n",
    "            # plot start and end location\n",
    "            locs2 = self.raw_data.ix[:,'stay_point'].dropna().tolist()\n",
    "            if type(self.nodes.ix[0,'node']) is not str:\n",
    "                start_loc = geohash.decode(self.parent.home)\n",
    "            else:\n",
    "                start_loc = geohash.decode(self.nodes.ix[0,'node'])\n",
    "            folium.Marker(location=start_loc, popup='Start', icon=folium.Icon(color='blue')).add_to(m1)\n",
    "            folium.Marker(location=self.parent.stay_points[locs2[-1]], popup='End', icon=folium.Icon(color='blue')).add_to(m1)\n",
    "\n",
    "        # plot home location\n",
    "        folium.Marker(location=geohash.decode(self.parent.home), popup='Home', icon=folium.Icon(color='red'))\n",
    "            \n",
    "            \n",
    "            \n",
    "        # plot time\n",
    "        for i in range(len(locs)):\n",
    "            hour = self.raw_data.index[i].hour\n",
    "            minute = self.raw_data.index[i].minute\n",
    "            timestr = \"{}:{}\".format(hour, minute)\n",
    "            folium.CircleMarker(location=locs[i], radius=5, \n",
    "                               color ='yellow', fill_color='yellow', popup=timestr).add_to(m1)\n",
    "            \n",
    "        \n",
    "        saved_file_name = '{}-{}.html'.format(self.parent.uid, str(self.date))\n",
    "        m1.save(saved_file_name)\n",
    "        return m1, saved_file_name\n",
    "        \n",
    "    "
   ]
  },
  {
   "cell_type": "code",
   "execution_count": 8,
   "metadata": {
    "collapsed": true
   },
   "outputs": [],
   "source": [
    "def plot_motifs(ax, motifs):\n",
    "    # sort motifs according to number of nodes\n",
    "    c = 0\n",
    "    # w = 1 / len(motifs)\n",
    "    w = 1/20\n",
    "    b_w = w * 0.4\n",
    "    bar_pos_diff = (w - b_w) / 2\n",
    "    sum_i = 0\n",
    "    for m in motifs:\n",
    "        sum_i += len(m['data'])\n",
    "    index = 0\n",
    "    for m in motifs:\n",
    "        subpos = [w*(index),0.8,w,0.2]\n",
    "        subax = add_subplot_axes(ax,subpos)\n",
    "        nx.draw_spectral(m['graph'], ax=subax, node_size=20)\n",
    "        p = patches.Rectangle((w*(index) + bar_pos_diff,0),b_w,len(m['data'])/sum_i)\n",
    "        ax.add_patch(p)\n",
    "        index += 1\n",
    "    num_motifs = len(motifs)\n",
    "    ticks = range(num_motifs)\n",
    "    ticks = [w/2 + t*w for t in ticks]\n",
    "    ax.set_xticks(ticks)\n",
    "    ax.set_xticklabels(range(1,num_motifs+1))\n",
    "    ax.set_yticks(np.linspace(0,1,11))\n",
    "    return ax"
   ]
  },
  {
   "cell_type": "code",
   "execution_count": 9,
   "metadata": {
    "collapsed": true
   },
   "outputs": [],
   "source": [
    "def plot_motifs2(motifs, ax=None):\n",
    "    num_motif = len(motifs)\n",
    "    if ax is None:\n",
    "        if num_motif > 0:\n",
    "            motifs = sort_motif_by_freq(motifs)\n",
    "            motifs = motifs[:20]\n",
    "            motifs = sort_motif_by_nodes(motifs)\n",
    "\n",
    "            fig = plt.figure(figsize=(20, 5))\n",
    "            ax = fig.add_subplot(1,1,1)\n",
    "            ax = plot_motifs(ax, motifs)\n",
    "            return fig\n",
    "        else:\n",
    "            return None\n",
    "    else:\n",
    "        if num_motif > 0:\n",
    "            motifs = sort_motif_by_freq(motifs)\n",
    "            motifs = motifs[:20]\n",
    "            motifs = sort_motif_by_nodes(motifs)\n",
    "            \n",
    "            ax = plot_motifs(ax, motifs)\n",
    "            return ax\n",
    "        else:\n",
    "            return None"
   ]
  },
  {
   "cell_type": "code",
   "execution_count": 10,
   "metadata": {
    "collapsed": false
   },
   "outputs": [],
   "source": [
    "def add_motifs(motifs, new_motifs):\n",
    "    \"\"\"\n",
    "    Check equality of motifs returned by Userdata.export_motifs().\n",
    "    Add motifs from new_motifs to moitfs and return motifs.\n",
    "    \"\"\"\n",
    "    for nm in new_motifs:\n",
    "        found = False\n",
    "        for m in motifs:\n",
    "            if nx.is_isomorphic(m['graph'], nm['graph']):\n",
    "                m['data'].extend(nm['data'])\n",
    "                found = True\n",
    "                break\n",
    "        if not found:\n",
    "            motifs.append(nm)\n",
    "    return motifs"
   ]
  },
  {
   "cell_type": "code",
   "execution_count": 11,
   "metadata": {
    "collapsed": true
   },
   "outputs": [],
   "source": [
    "def generate_motifs(df, nodes, round_trip=True, insert_home=True, \n",
    "                   dayofweek=[0,1,2,3,4], trav_dist_th=50000, valid_timeslot_th=8):\n",
    "    \"\"\"\n",
    "    Generate moitfs for given data.\n",
    "    \n",
    "    Parameters:\n",
    "    -----------\n",
    "    df: DataFrame\n",
    "        location data\n",
    "    nodes: tuple\n",
    "        nodes generated by generate_daily_nodes()\n",
    "    round_trip: bool\n",
    "        whether to consider only days that start and end at the same date\n",
    "    insert_home: bool\n",
    "        whether to insert home location if the first timeslot of daily data is missing\n",
    "    dayofweek: list of integers\n",
    "        which days of week to consider, [0,1,2,3,4,5,6] for Mon, Tue, Thurs, Wed, Fri, Sat, and Sun\n",
    "    trav_dist_th: int\n",
    "        travel distance threshold\n",
    "    valid_timeslot_th: int\n",
    "        valid time slot thresold required to compute daily motifs\n",
    "        \n",
    "    Returns:\n",
    "    --------\n",
    "    motifs: list of dictionary\n",
    "        list of motifs, key is the graph, data is the list of timestamp for days of the same graph\n",
    "        \n",
    "    \"\"\"\n",
    "    df2 = df.copy()\n",
    "    df2 = get_dayofweek(df2, dayofweek)\n",
    "    if insert_home:\n",
    "        home = approx_home_location(df2)\n",
    "    motifs = []\n",
    "    \n",
    "    for n in nodes:\n",
    "        tsp = n[0]\n",
    "        list_nodes = n[1].node.dropna().tolist()\n",
    "        \n",
    "        # check day of week\n",
    "        if n[0].dayofweek not in dayofweek:\n",
    "            continue\n",
    "        \n",
    "        # check number of valid time slots\n",
    "        if len(list_nodes) <= valid_timeslot_th:\n",
    "            continue\n",
    "        \n",
    "        # fiter out days with abnormal travel distance\n",
    "        un = np.unique(list_nodes)\n",
    "        un = [geohash.decode(x) for x in un]\n",
    "        d = pdist(un, lambda x,y: vincenty(x,y).meters)\n",
    "        if len(d)>0 and (max(d) > trav_dist_th):\n",
    "            continue\n",
    "        \n",
    "        # insert home location is necessary\n",
    "        if insert_home and (type(n[1].ix[0,'node']) is not str):\n",
    "            list_nodes.insert(0,home)\n",
    "        \n",
    "        # check whether the day is a round trip if specified\n",
    "        if round_trip and (list_nodes[0] != list_nodes[-1]):\n",
    "            continue\n",
    "        \n",
    "        # generate graph\n",
    "        g = nx.DiGraph()\n",
    "        g.add_nodes_from(list_nodes)\n",
    "        for i in range(1,len(list_nodes)):\n",
    "            if list_nodes[i] != list_nodes[i-1]:\n",
    "                g.add_edge(list_nodes[i-1], list_nodes[i])\n",
    "        g = nx.freeze(g)\n",
    "        \n",
    "        # check graph equality\n",
    "        found = False\n",
    "        for item in motifs:\n",
    "            if nx.is_isomorphic(item['graph'], g):\n",
    "                item['data'].append(tsp)\n",
    "                found = True\n",
    "                break\n",
    "        if not found:\n",
    "            motifs.append({'graph':g, 'data':[tsp]})\n",
    "    return motifs"
   ]
  },
  {
   "cell_type": "code",
   "execution_count": 12,
   "metadata": {
    "collapsed": false
   },
   "outputs": [],
   "source": [
    "def plot_daily_visited_locations(motifs, ax=None):\n",
    "    \"\"\"\n",
    "    Plot daily visited locations in ascending order of number of daily nodes.\n",
    "    \n",
    "    Parameters:\n",
    "    -----------\n",
    "    motifs: list\n",
    "        list of motifs\n",
    "    \n",
    "    ax: matplotlib.axes._subplots.AxesSubplot\n",
    "        axes on which to plot the stats\n",
    "        \n",
    "        \n",
    "    Returns:\n",
    "    --------\n",
    "    ax: matplotlib.axes._subplots.AxesSubplot\n",
    "        axes on which the stats are plotted\n",
    "    \"\"\"\n",
    "    distr = {}\n",
    "    for m in motifs:\n",
    "        num_visited = len(m['graph'].nodes())\n",
    "        c = len(m['data'])\n",
    "        if num_visited in distr:\n",
    "            distr[num_visited] += c\n",
    "        else:\n",
    "            distr[num_visited] = c\n",
    "                \n",
    "    if ax is None:\n",
    "        fig = plt.figure(figsize=(5,3))\n",
    "        ax = fig.add_subplot(1,1,1)\n",
    "                \n",
    "        nbarx = list(distr.keys())\n",
    "        nbarx.sort()\n",
    "        s = sum(distr.values())\n",
    "        m = sum(distr.keys())\n",
    "        nbary = [distr[x]/s for x in nbarx]\n",
    "        ind = np.arange(len(nbarx))  # the x locations for the groups\n",
    "        width = 0.2     # the width of the bars\n",
    "        rects1 = ax.bar(ind, nbary, width, color='b')\n",
    "        ax.set_xticks(ind+width/2)\n",
    "        ax.set_xticklabels(nbarx)\n",
    "        ax.set_yticks(np.linspace(0,1,11))\n",
    "        return fig\n",
    "    else:\n",
    "        nbarx = list(distr.keys())\n",
    "        nbarx.sort()\n",
    "        s = sum(distr.values())\n",
    "        m = sum(distr.keys())\n",
    "        nbary = [distr[x]/s for x in nbarx]\n",
    "        ind = np.arange(len(nbarx))  # the x locations for the groups\n",
    "        width = 0.2     # the width of the bars\n",
    "        rects1 = ax.bar(ind, nbary, width, color='b')\n",
    "        ax.set_xticks(ind+width/2)\n",
    "        ax.set_xticklabels(nbarx)\n",
    "        ax.set_yticks(np.linspace(0,1,11))\n",
    "        return ax"
   ]
  },
  {
   "cell_type": "code",
   "execution_count": 13,
   "metadata": {
    "collapsed": true
   },
   "outputs": [],
   "source": [
    "def get_dayofweek(df, dayofweek):\n",
    "    \"\"\"\n",
    "    Return the day of week specified.\n",
    "    \n",
    "    Parameters:\n",
    "    -----------\n",
    "    \n",
    "    df: Dataframe\n",
    "        user location data\n",
    "    \n",
    "    \n",
    "    Return:\n",
    "    -------\n",
    "    Dataframe\n",
    "        user location data for weekdays\n",
    "    \"\"\"\n",
    "    df2 = df.copy()\n",
    "    df2['dayofweek'] = [x.dayofweek for x in df.index]\n",
    "    return df2.loc[df2['dayofweek'].isin(dayofweek)]"
   ]
  },
  {
   "cell_type": "code",
   "execution_count": 14,
   "metadata": {
    "collapsed": true
   },
   "outputs": [],
   "source": [
    "def compute_regularity(df, ax=None, plot=True):\n",
    "    \"\"\"\n",
    "    Calculate mobility regularity R(t), which is defined as the probability of \n",
    "    finding the user in her/his most visited location at hourly interval in a\n",
    "    week (Jiang S et al, 2010)\n",
    "    [http://humnetlab.mit.edu/wordpress/wp-content/uploads/2010/10/ACM13_ShanJiangII.pdf]\n",
    "    \n",
    "    \n",
    "    Parameters:\n",
    "    -----------\n",
    "    df: DataFrame\n",
    "        location data\n",
    "        \n",
    "    ax: matplotlib.axes._subplots.AxesSubplot\n",
    "        axes to plot the regularity\n",
    "        \n",
    "    plot: bool\n",
    "        whether plot mobility regularity\n",
    "    \n",
    "    \n",
    "    Returns:\n",
    "    --------\n",
    "    R_list: list of floats\n",
    "        mobility regularity in hourly interval in a week\n",
    "        \n",
    "    ax: matplotlib.axes._subplots.AxesSubplot\n",
    "        axes on which mobility regularity was plotted\n",
    "    \"\"\"\n",
    "    \n",
    "    D = {} # location visited for intervals, there are 7x4 hourly intervals, \n",
    "           # each key is a tuple of hour and dayofweek\n",
    "    R = {} # mobility regularity for each interval\n",
    "    \n",
    "    # initialize D and R\n",
    "    for day in range(7): # for each day of week\n",
    "        for hour in range(24): # for each hour of the day\n",
    "            D[(day,hour)] = []\n",
    "            R[(day,hour)] = 0\n",
    "            \n",
    "    # group locatino data based on hour and dayofweek\n",
    "    df2 = df.copy()\n",
    "    df2['hour'] = [x.hour for x in df2.index]\n",
    "    df2['dayofweek'] = [x.dayofweek for x in df2.index]\n",
    "    grouped = df2.groupby(['dayofweek', 'hour'])\n",
    "    \n",
    "    # compute visited locations for each interval\n",
    "    for index, group in grouped:\n",
    "        dayofweek = index[0]\n",
    "        hour = index[1]\n",
    "        visited_locations = group.stay_region.dropna()\n",
    "        D[(dayofweek, hour)].extend(visited_locations)\n",
    "        \n",
    "    # compute regularity\n",
    "    for key, value in D.items():\n",
    "        num_locations = len(value)\n",
    "        c = Counter(value)\n",
    "        if len(c) > 0:\n",
    "            num_most_common_location = c.most_common()[0][1] # get most frequent visited location\n",
    "            R[(key[0],key[1])] = num_most_common_location / num_locations # frequency of most visited location\n",
    "    \n",
    "    # convert regulariy infomation in R to a list in time order\n",
    "    R_list = []\n",
    "    for d in range(7):\n",
    "        for h in range(24):\n",
    "            R_list.append(R[d,h])\n",
    "    \n",
    "    # plot regularity\n",
    "    if plot:\n",
    "        if ax is None:\n",
    "            f, ax = plt.subplots(1,1)\n",
    "            ret = ax\n",
    "        else:\n",
    "            ret = ax\n",
    "\n",
    "        # plot lines to seperate each day\n",
    "        ax.plot(list(range(24*7)), R_list)\n",
    "        for i in range(1, 7):\n",
    "            ax.plot([i*24,i*24], [0, 1], color='0.4', linewidth=0.2, linestyle='--')\n",
    "\n",
    "        # set plot configurations\n",
    "        ax.set_xticks([11+x*24 for x in range(7)])\n",
    "        ax.set_xticklabels(['Mon', 'Tue', 'Wed', 'Thur', 'Fri', 'Sat', 'Sun'])\n",
    "        ax.set_ylabel('R(t)')\n",
    "        ax.set_xlabel('Time(t)')\n",
    "        ax.grid('off')\n",
    "        ax.spines['top'].set_color('b')\n",
    "        ax.spines['right'].set_visible(True)\n",
    "        ax.spines['top'].set_visible(True)\n",
    "    else:\n",
    "        ax = None\n",
    "    return R_list, ax"
   ]
  },
  {
   "cell_type": "code",
   "execution_count": 15,
   "metadata": {
    "collapsed": true
   },
   "outputs": [],
   "source": [
    "def compute_gyration_radius(df, sr_c='stay_region', long_trip_th=50000, home=None):\n",
    "    \"\"\"\n",
    "    This function computes the total radius of gyration and k-radius gyration for an individual\n",
    "    based on visitied locations.\n",
    "    \n",
    "    The total radius of gyration is used to characterize the typical distance travelled by an individual.\n",
    "    The k-radius of gyration is the radius of gyration computed over the k-th most frequent locations.\n",
    "    \n",
    "    Gonzalez M. C., Hidalgo C. A. & Barabasi A. L. Understanding individual human mobility patterns. Nature 453, 779–782 (2008).\n",
    "    \n",
    "    Parameters:\n",
    "    -----------\n",
    "    \n",
    "    df: DataFrame\n",
    "        location data including column 'stay_region'\n",
    "    \n",
    "    sr_c: str\n",
    "        stay region column name\n",
    "    \n",
    "\n",
    "    Returns:\n",
    "    --------\n",
    "    total_rg: float\n",
    "        total radius of gyration\n",
    "        \n",
    "    k_th_rg: DataFrame\n",
    "        k-th radius of gyration in descending order of frequented locations\n",
    "        \n",
    "    detail_info: Dataframe\n",
    "        detail information for significant locations including \n",
    "        geohash values, gps coordinates, count, k-th radius of gyration\n",
    "    \"\"\"\n",
    "    \n",
    "    df2 = df.copy()\n",
    "    visited_locations = df2[sr_c].dropna()\n",
    "    unique_visited_locations = np.unique(visited_locations).tolist()\n",
    "\n",
    "    # remove locations that are faraway from the most frequent location\n",
    "    if home is None:\n",
    "        home = geohash.decode(approx_home_location(df))\n",
    "    c = Counter(visited_locations)\n",
    "    for k in c.keys():\n",
    "        if (vincenty(home, geohash.decode(k)).meters > long_trip_th):\n",
    "            if k in unique_visited_locations:\n",
    "                unique_visited_locations.remove(k)\n",
    "    \n",
    "    # assign gps coordinate to each stay_region\n",
    "    df2 = df2.loc[df['stay_region'].isin(unique_visited_locations), :]\n",
    "    geohash_to_gps = {}\n",
    "    for g in unique_visited_locations:\n",
    "        geohash_to_gps[g] = geohash.decode(g)\n",
    "    df2['lat2'] = [geohash_to_gps[x][0] for x in df2.stay_region]\n",
    "    df2['lon2'] = [geohash_to_gps[x][1] for x in df2.stay_region]\n",
    "        \n",
    "    visited_locations = df2.stay_region\n",
    "    unique_visited_locations_gps = [geohash.decode(x) for x in unique_visited_locations]\n",
    "    num_places = len(unique_visited_locations)\n",
    "    num_points = len(visited_locations)\n",
    "    \n",
    "    # construct a DataFrame to store significant places' info\n",
    "    significant_places = pd.DataFrame(columns =['geo_hash','lat','lon','count','pct','gyration_radius','k'])\n",
    "    significant_places['geo_hash'] = unique_visited_locations\n",
    "    significant_places.lat = [x[0] for x in unique_visited_locations_gps]\n",
    "    significant_places.lon = [x[1] for x in unique_visited_locations_gps]\n",
    "    significant_places.ix[:,'count'] = 0\n",
    "    significant_places.ix[:,'gyration_radius'] = 0\n",
    "    significant_places = significant_places.set_index('geo_hash')\n",
    "    \n",
    "    # sort significant places by frequency\n",
    "    c = Counter(visited_locations)\n",
    "    for v in c:\n",
    "        if v in significant_places.index:\n",
    "            significant_places.ix[v,'count'] = c[v]\n",
    "    for n in range(num_places):\n",
    "        significant_places.ix[n,'pct'] = significant_places.ix[n,'count'] / num_points\n",
    "            \n",
    "    significant_places = significant_places.sort_values(by='count', ascending=False)\n",
    "    significant_places.ix[:,'k'] = [ x+1 for x in range(num_places)]\n",
    "    \n",
    "    # compute tatol radius of gyration\n",
    "    N = num_points # total number of visits\n",
    "    locations_included = significant_places.index\n",
    "    r_cm = get_geo_center(df2.loc[df2['stay_region'].isin(locations_included)], \n",
    "                          lat_c='lat2', lon_c='lon2')\n",
    "    r_cm = (r_cm['latitude'],r_cm['longitude']) # center of mass of the individual\n",
    "\n",
    "    temp_sum = 0\n",
    "    for i in range(num_places):\n",
    "        r = (significant_places.ix[i,'lat'], significant_places.ix[i,'lon'])\n",
    "        temp_sum += significant_places.ix[i,'count'] * vincenty(r,r_cm).km**2\n",
    "    total_rg = math.sqrt(1/N * temp_sum)\n",
    "    \n",
    "    # compute k-radius of gyration\n",
    "    for i in range(num_places):\n",
    "        N = significant_places.ix[:i+1,'count'].sum()\n",
    "        locations_included = significant_places.index[:i+1]\n",
    "        r_cm = get_geo_center(df2.loc[df2['stay_region'].isin(locations_included)], \n",
    "                              lat_c='lat2', lon_c='lon2')\n",
    "        r_cm = (r_cm['latitude'],r_cm['longitude'])\n",
    "        temp_sum = 0\n",
    "        for j in range(i+1):\n",
    "            r = (significant_places.ix[j,'lat'], significant_places.ix[j,'lon'])\n",
    "            temp_sum += significant_places.ix[j,'count'] * vincenty(r,r_cm).km**2\n",
    "        if temp_sum > 0:\n",
    "            significant_places.ix[i,'gyration_radius'] = math.sqrt(1/N * temp_sum)\n",
    "\n",
    "    \n",
    "    if num_places==1:\n",
    "        significant_places['ratio_k'] = 1\n",
    "    else:\n",
    "        significant_places['ratio_k'] = [ x/r_total for x in significant_places.gyration_radius]\n",
    "    \n",
    "    k_th_rg = significant_places.ix[:,['gyration_radius','k','ratio_k']].set_index('k')\n",
    "    \n",
    "    detail_info = significant_places\n",
    "    \n",
    "    return(total_rg,k_th_rg,detail_info)"
   ]
  },
  {
   "cell_type": "code",
   "execution_count": 16,
   "metadata": {
    "collapsed": true
   },
   "outputs": [],
   "source": [
    "uid = 'u016.csv'\n",
    "time_th = '30m'\n",
    "dist_th = 300\n",
    "geohash_prc = 8\n",
    "rare_point_th = 0\n",
    "\n",
    "df, nodes = from_csv(uid, time_th, dist_th, geohash_prc, rare_point_th)"
   ]
  },
  {
   "cell_type": "code",
   "execution_count": 17,
   "metadata": {
    "collapsed": true
   },
   "outputs": [],
   "source": [
    "dfz = df.copy()"
   ]
  },
  {
   "cell_type": "code",
   "execution_count": 18,
   "metadata": {
    "collapsed": false
   },
   "outputs": [
    {
     "data": {
      "text/plain": [
       "[('dr5xwry', 19289),\n",
       " ('drk9803', 689),\n",
       " ('dr5xfdm', 51),\n",
       " ('dr7mj9w', 46),\n",
       " ('dr5xtxf', 35),\n",
       " ('dr5xy78', 34),\n",
       " ('dr5xyu2', 33),\n",
       " ('dr5xxq4', 28),\n",
       " ('dr5xv1t', 27),\n",
       " ('dr5xy7v', 21),\n",
       " ('dr5xy30', 19),\n",
       " ('dr5xwqn', 11),\n",
       " ('dr5xyv1', 9),\n",
       " ('dr5z659', 8),\n",
       " ('dr5xubk', 8),\n",
       " ('dr5xty2', 5),\n",
       " ('dr5xww6', 5),\n",
       " ('drk9c64', 4),\n",
       " ('dr5xwvg', 4),\n",
       " ('dr5xyy2', 4),\n",
       " ('dr5xxnp', 3),\n",
       " ('dr5xyyd', 3),\n",
       " ('drk2f5s', 3),\n",
       " ('dr5xwmw', 3)]"
      ]
     },
     "execution_count": 18,
     "metadata": {},
     "output_type": "execute_result"
    }
   ],
   "source": [
    "Counter(dfz.stay_region.dropna()).most_common()"
   ]
  },
  {
   "cell_type": "code",
   "execution_count": 19,
   "metadata": {
    "collapsed": false
   },
   "outputs": [
    {
     "ename": "NameError",
     "evalue": "name 'plot_regularity' is not defined",
     "output_type": "error",
     "traceback": [
      "\u001b[0;31m---------------------------------------------------------------------------\u001b[0m",
      "\u001b[0;31mNameError\u001b[0m                                 Traceback (most recent call last)",
      "\u001b[0;32m<ipython-input-19-10ed1a1f9164>\u001b[0m in \u001b[0;36m<module>\u001b[0;34m()\u001b[0m\n\u001b[0;32m----> 1\u001b[0;31m \u001b[0mR\u001b[0m\u001b[0;34m,\u001b[0m \u001b[0max\u001b[0m \u001b[0;34m=\u001b[0m \u001b[0mplot_regularity\u001b[0m\u001b[0;34m(\u001b[0m\u001b[0mdf\u001b[0m\u001b[0;34m)\u001b[0m\u001b[0;34m\u001b[0m\u001b[0m\n\u001b[0m",
      "\u001b[0;31mNameError\u001b[0m: name 'plot_regularity' is not defined"
     ]
    }
   ],
   "source": [
    "R, ax = plot_regularity(df)"
   ]
  },
  {
   "cell_type": "code",
   "execution_count": null,
   "metadata": {
    "collapsed": false
   },
   "outputs": [],
   "source": [
    "r_total, a,b = compute_gyration_radius(df, sr_c='stay_region')"
   ]
  },
  {
   "cell_type": "code",
   "execution_count": null,
   "metadata": {
    "collapsed": false
   },
   "outputs": [],
   "source": [
    "a.ratio_k.tolist()"
   ]
  },
  {
   "cell_type": "code",
   "execution_count": null,
   "metadata": {
    "collapsed": false
   },
   "outputs": [],
   "source": [
    "k_info"
   ]
  },
  {
   "cell_type": "code",
   "execution_count": null,
   "metadata": {
    "collapsed": false
   },
   "outputs": [],
   "source": [
    "u = Userdata(uid=uid, df=df, nodes=nodes, time_th=time_th, rare_point_th=rare_point_th, dist_th=dist_th, geohash_prc=8)\n",
    "u.generate_motifs(inst_home=True, round_trip=True, valid_timeslot_th=8)\n",
    "p1 = u.plot_motifs()"
   ]
  },
  {
   "cell_type": "code",
   "execution_count": null,
   "metadata": {
    "collapsed": true
   },
   "outputs": [],
   "source": [
    "motifs = generate_motifs(df, nodes)"
   ]
  },
  {
   "cell_type": "code",
   "execution_count": null,
   "metadata": {
    "collapsed": false
   },
   "outputs": [],
   "source": [
    "_ = plot_daily_visited_locations(motifs)"
   ]
  },
  {
   "cell_type": "code",
   "execution_count": null,
   "metadata": {
    "collapsed": false,
    "scrolled": true
   },
   "outputs": [],
   "source": [
    "_ = u.plot_daily_visited_locations()"
   ]
  },
  {
   "cell_type": "code",
   "execution_count": null,
   "metadata": {
    "collapsed": false
   },
   "outputs": [],
   "source": [
    "d = u.get_day(date_t)\n",
    "m,_ = d.draw_traj()\n",
    "display(m)"
   ]
  },
  {
   "cell_type": "code",
   "execution_count": null,
   "metadata": {
    "collapsed": false
   },
   "outputs": [],
   "source": [
    "uid = 'u016.csv'\n",
    "time_th = '30m'\n",
    "dist_th = 300\n",
    "geohash_prc = 8\n",
    "rare_point_th = 0.5\n",
    "\n",
    "df, nodes = from_csv(uid, time_th, dist_th, geohash_prc, rare_point_th)"
   ]
  },
  {
   "cell_type": "code",
   "execution_count": null,
   "metadata": {
    "collapsed": false
   },
   "outputs": [],
   "source": [
    "R = plot_regularity(df)"
   ]
  },
  {
   "cell_type": "code",
   "execution_count": null,
   "metadata": {
    "collapsed": false
   },
   "outputs": [],
   "source": [
    "r_total, K_th, k_info = compute_gyration_radius(df, sr_c='stay_region')\n",
    "print(r_total)"
   ]
  },
  {
   "cell_type": "code",
   "execution_count": null,
   "metadata": {
    "collapsed": false
   },
   "outputs": [],
   "source": [
    "k_info"
   ]
  },
  {
   "cell_type": "code",
   "execution_count": null,
   "metadata": {
    "collapsed": false
   },
   "outputs": [],
   "source": [
    "m = u.plot_stay_points()\n",
    "display(m)"
   ]
  },
  {
   "cell_type": "code",
   "execution_count": null,
   "metadata": {
    "collapsed": false,
    "scrolled": false
   },
   "outputs": [],
   "source": [
    "u = Userdata(uid=uid, df=df, nodes=nodes, time_th=time_th, rare_point_th=rare_point_th, dist_th=dist_th, geohash_prc=8)\n",
    "u.generate_motifs(inst_home=True, round_trip=True, valid_timeslot_th=8)\n",
    "p1 = u.plot_motifs()"
   ]
  },
  {
   "cell_type": "code",
   "execution_count": null,
   "metadata": {
    "collapsed": false
   },
   "outputs": [],
   "source": [
    "_ = u.plot_daily_visited_locations()"
   ]
  },
  {
   "cell_type": "code",
   "execution_count": null,
   "metadata": {
    "collapsed": false,
    "scrolled": true
   },
   "outputs": [],
   "source": [
    "d = u.get_motif(1)['data'][7]\n",
    "m,_ = d.draw_traj()\n",
    "display(m)"
   ]
  },
  {
   "cell_type": "code",
   "execution_count": null,
   "metadata": {
    "collapsed": true
   },
   "outputs": [],
   "source": [
    "date_t = d.date"
   ]
  },
  {
   "cell_type": "code",
   "execution_count": null,
   "metadata": {
    "collapsed": false,
    "scrolled": true
   },
   "outputs": [],
   "source": [
    "d = u.get_motif(1)['data'][6]\n",
    "m,_ = d.draw_traj()\n",
    "display(m)"
   ]
  },
  {
   "cell_type": "code",
   "execution_count": null,
   "metadata": {
    "collapsed": false
   },
   "outputs": [],
   "source": [
    "uid = 'u010.csv'\n",
    "time_th = '30m'\n",
    "dist_th = 300\n",
    "geohash_prc = 8\n",
    "rare_point_th = 0.5\n",
    "\n",
    "df, nodes = from_csv(uid, time_th, dist_th, geohash_prc, rare_point_th)"
   ]
  },
  {
   "cell_type": "code",
   "execution_count": null,
   "metadata": {
    "collapsed": false
   },
   "outputs": [],
   "source": [
    "R = plot_regularity(df)"
   ]
  },
  {
   "cell_type": "code",
   "execution_count": null,
   "metadata": {
    "collapsed": false
   },
   "outputs": [],
   "source": [
    "r_total, K_th, k_info = compute_gyration_radius(df, sr_c='stay_region')\n",
    "print(r_total)"
   ]
  },
  {
   "cell_type": "code",
   "execution_count": null,
   "metadata": {
    "collapsed": false
   },
   "outputs": [],
   "source": [
    "k_info"
   ]
  },
  {
   "cell_type": "code",
   "execution_count": null,
   "metadata": {
    "collapsed": false
   },
   "outputs": [],
   "source": [
    "u = Userdata(uid=uid, df=df, nodes=nodes, time_th=time_th, rare_point_th=rare_point_th, dist_th=dist_th, geohash_prc=8)\n",
    "u.generate_motifs(inst_home=True, round_trip=True, valid_timeslot_th=8)\n",
    "p1 = u.plot_motifs()"
   ]
  },
  {
   "cell_type": "code",
   "execution_count": null,
   "metadata": {
    "collapsed": false
   },
   "outputs": [],
   "source": [
    "m = u.plot_stay_points()\n",
    "display(m)"
   ]
  },
  {
   "cell_type": "code",
   "execution_count": null,
   "metadata": {
    "collapsed": false
   },
   "outputs": [],
   "source": [
    "_ = u.plot_daily_visited_locations()"
   ]
  },
  {
   "cell_type": "code",
   "execution_count": null,
   "metadata": {
    "collapsed": false
   },
   "outputs": [],
   "source": [
    "d = u.get_motif(1)['data'][7]\n",
    "m,_ = d.draw_traj()\n",
    "display(m)"
   ]
  },
  {
   "cell_type": "code",
   "execution_count": null,
   "metadata": {
    "collapsed": false
   },
   "outputs": [],
   "source": [
    "date_t = d.date\n",
    "d.date"
   ]
  },
  {
   "cell_type": "code",
   "execution_count": null,
   "metadata": {
    "collapsed": true
   },
   "outputs": [],
   "source": []
  },
  {
   "cell_type": "code",
   "execution_count": null,
   "metadata": {
    "collapsed": false
   },
   "outputs": [],
   "source": [
    "uid = 'u010.csv'\n",
    "time_th = '30m'\n",
    "dist_th = 300\n",
    "geohash_prc = 8\n",
    "rare_point_th = 0.5\n",
    "\n",
    "df2, nodes2 = from_csv(uid, time_th, dist_th, geohash_prc, rare_point_th)"
   ]
  },
  {
   "cell_type": "code",
   "execution_count": null,
   "metadata": {
    "collapsed": false,
    "scrolled": true
   },
   "outputs": [],
   "source": [
    "u = Userdata(uid=uid, df=df2, nodes=nodes2, time_th=time_th, rare_point_th=rare_point_th, dist_th=dist_th, geohash_prc=8)\n",
    "u.generate_motifs(inst_home=True, round_trip=True, valid_timeslot_th=8)\n",
    "p1 = u.plot_motifs()"
   ]
  },
  {
   "cell_type": "code",
   "execution_count": null,
   "metadata": {
    "collapsed": false
   },
   "outputs": [],
   "source": [
    "_ = u.plot_daily_visited_locations()"
   ]
  },
  {
   "cell_type": "code",
   "execution_count": null,
   "metadata": {
    "collapsed": false
   },
   "outputs": [],
   "source": [
    "print(len(u.stay_points))\n",
    "print(len(u.stay_region))"
   ]
  },
  {
   "cell_type": "code",
   "execution_count": null,
   "metadata": {
    "collapsed": true
   },
   "outputs": [],
   "source": [
    "r_total, a,b = compute_gyration_radius(df2, sr_c='stay_region')"
   ]
  },
  {
   "cell_type": "code",
   "execution_count": null,
   "metadata": {
    "collapsed": false
   },
   "outputs": [],
   "source": [
    "r_total"
   ]
  },
  {
   "cell_type": "code",
   "execution_count": null,
   "metadata": {
    "collapsed": false
   },
   "outputs": [],
   "source": [
    "a.ratio_k.tolist()"
   ]
  },
  {
   "cell_type": "code",
   "execution_count": null,
   "metadata": {
    "collapsed": false
   },
   "outputs": [],
   "source": [
    "m = u.plot_stay_points()\n",
    "display(m)"
   ]
  },
  {
   "cell_type": "code",
   "execution_count": null,
   "metadata": {
    "collapsed": false
   },
   "outputs": [],
   "source": [
    "date_t"
   ]
  },
  {
   "cell_type": "code",
   "execution_count": null,
   "metadata": {
    "collapsed": false,
    "scrolled": true
   },
   "outputs": [],
   "source": [
    "m,_ = d2.draw_traj()\n",
    "display(m)"
   ]
  },
  {
   "cell_type": "code",
   "execution_count": null,
   "metadata": {
    "collapsed": false,
    "scrolled": true
   },
   "outputs": [],
   "source": [
    "d = u.get_motif(7)['data'][0]\n",
    "m, _ = d.draw_traj()\n",
    "display(m)"
   ]
  },
  {
   "cell_type": "code",
   "execution_count": null,
   "metadata": {
    "collapsed": true
   },
   "outputs": [],
   "source": [
    "date_t = d.date"
   ]
  },
  {
   "cell_type": "code",
   "execution_count": null,
   "metadata": {
    "collapsed": true
   },
   "outputs": [],
   "source": [
    "uid = 'u010.csv'\n",
    "time_th = '15m'\n",
    "dist_th = 300\n",
    "geohash_prc = 8\n",
    "rare_point_th = 0\n",
    "\n",
    "df2, nodes2 = from_csv(uid, time_th, dist_th, geohash_prc, rare_point_th)"
   ]
  },
  {
   "cell_type": "code",
   "execution_count": null,
   "metadata": {
    "collapsed": false
   },
   "outputs": [],
   "source": [
    "u = Userdata(uid=uid, df=df2, nodes=nodes2, time_th=time_th, rare_point_th=rare_point_th, dist_th=dist_th, geohash_prc=8)\n",
    "u.generate_motifs(inst_home=True, round_trip=True, valid_timeslot_th=8)\n",
    "p1 = u.plot_motifs()"
   ]
  },
  {
   "cell_type": "code",
   "execution_count": null,
   "metadata": {
    "collapsed": false
   },
   "outputs": [],
   "source": [
    "_ = u.plot_daily_visited_locations()"
   ]
  },
  {
   "cell_type": "code",
   "execution_count": null,
   "metadata": {
    "collapsed": false
   },
   "outputs": [],
   "source": [
    "print(len(u.stay_points))\n",
    "print(len(u.stay_region))"
   ]
  },
  {
   "cell_type": "code",
   "execution_count": null,
   "metadata": {
    "collapsed": false
   },
   "outputs": [],
   "source": [
    "m = u.plot_stay_points()\n",
    "display(m)"
   ]
  },
  {
   "cell_type": "code",
   "execution_count": null,
   "metadata": {
    "collapsed": true
   },
   "outputs": [],
   "source": [
    "d = u.get_day(date_t)"
   ]
  },
  {
   "cell_type": "code",
   "execution_count": null,
   "metadata": {
    "collapsed": false
   },
   "outputs": [],
   "source": [
    "m, _ = d.draw_traj()\n",
    "display(m)"
   ]
  },
  {
   "cell_type": "code",
   "execution_count": null,
   "metadata": {
    "collapsed": true
   },
   "outputs": [],
   "source": [
    "d = u.g"
   ]
  },
  {
   "cell_type": "code",
   "execution_count": null,
   "metadata": {
    "collapsed": true
   },
   "outputs": [],
   "source": [
    "ll"
   ]
  },
  {
   "cell_type": "code",
   "execution_count": null,
   "metadata": {
    "collapsed": true
   },
   "outputs": [],
   "source": [
    "nodes[205][1]"
   ]
  },
  {
   "cell_type": "code",
   "execution_count": null,
   "metadata": {
    "collapsed": true
   },
   "outputs": [],
   "source": [
    "nodes[206][1]"
   ]
  },
  {
   "cell_type": "code",
   "execution_count": null,
   "metadata": {
    "collapsed": false
   },
   "outputs": [],
   "source": [
    "motifs = generate_motif(df, nodes, round_trip=True, insert_home=True, \n",
    "                   dayofweek=[0,1,2,3,4], trav_dist_th=50000, valid_timeslot_th=8)"
   ]
  },
  {
   "cell_type": "code",
   "execution_count": null,
   "metadata": {
    "collapsed": false,
    "scrolled": true
   },
   "outputs": [],
   "source": [
    "d"
   ]
  },
  {
   "cell_type": "code",
   "execution_count": null,
   "metadata": {
    "collapsed": false
   },
   "outputs": [],
   "source": [
    "_ = u.plot_motifs()"
   ]
  },
  {
   "cell_type": "code",
   "execution_count": null,
   "metadata": {
    "collapsed": true
   },
   "outputs": [],
   "source": [
    "u.generate_motif(inst_home=False, round_trip=True, valid_timeslot_th=8)"
   ]
  },
  {
   "cell_type": "code",
   "execution_count": null,
   "metadata": {
    "collapsed": false
   },
   "outputs": [],
   "source": [
    "_ = u.plot_motifs()"
   ]
  },
  {
   "cell_type": "markdown",
   "metadata": {},
   "source": [
    "-----------------------------------------------------------------------------------------------------------------------"
   ]
  },
  {
   "cell_type": "code",
   "execution_count": null,
   "metadata": {
    "collapsed": true
   },
   "outputs": [],
   "source": [
    "data = ['u010.csv', 'u021.csv', 'u015.csv', 'u014.csv', 'u022.csv', 'u016.csv', 'u009.csv', 'u008.csv', 'u013.csv', 'u018.csv', 'u007.csv', 'u006.csv', 'u029.csv', 'u011.csv', 'u032.csv', 'u051.csv', 'u055.csv', 'u056.csv', 'u031.csv', 'u035.csv', 'u033.csv', 'u012.csv', 'u050.csv', 'u005.csv', 'u028.csv', 'u054.csv', 'u017.csv', 'u019.csv', 'u030.csv', 'u063.csv']"
   ]
  },
  {
   "cell_type": "code",
   "execution_count": null,
   "metadata": {
    "collapsed": false
   },
   "outputs": [],
   "source": [
    "processed_users = data[-3:]\n",
    "print(processed_users)"
   ]
  },
  {
   "cell_type": "code",
   "execution_count": null,
   "metadata": {
    "collapsed": true
   },
   "outputs": [],
   "source": []
  },
  {
   "cell_type": "code",
   "execution_count": null,
   "metadata": {
    "collapsed": false
   },
   "outputs": [],
   "source": [
    "# Read from csv \n",
    "# and generate daily motifs\n",
    "time_ths = ['15m','30m','45m']\n",
    "dist_ths = [50,100,200,300]\n",
    "rare_point_ths = [0,0.1,0.5]\n",
    "geohash_prc = 8\n",
    "overall_motifs = []\n",
    "\n",
    "for time_th in time_ths:\n",
    "    overall_motifs_temp1 = []\n",
    "    \n",
    "    for dist_th in dist_ths:\n",
    "        overall_motifs_temp2 = []\n",
    "        \n",
    "        for rare_point_th in rare_point_ths:\n",
    "\n",
    "            motifs = []\n",
    "            # for uid in processed_users:\n",
    "            for uid in ['u010.csv']:    \n",
    "                # load data from csv files\n",
    "                df,nodes = from_csv(uid, time_th, dist_th, geohash_prc, rare_point_th)\n",
    "                \n",
    "                # generate motifs\n",
    "                c_motifs = generate_motif(df, nodes, round_trip=True, insert_home=True, \n",
    "                                        dayofweek=[0,1,2,3,4], trav_dist_th=50000, valid_timeslot_th=8)\n",
    "                motifs = add_motifs(motifs, c_motifs)\n",
    "            \n",
    "            overall_motifs_temp2.append(motifs)\n",
    "        \n",
    "        overall_motifs_temp1.append(overall_motifs_temp2)\n",
    "    \n",
    "    overall_motifs.append(overall_motifs_temp1)"
   ]
  },
  {
   "cell_type": "code",
   "execution_count": null,
   "metadata": {
    "collapsed": false,
    "scrolled": true
   },
   "outputs": [],
   "source": [
    "# plot motifs\n",
    "cols = len(dist_ths)\n",
    "rows = len(time_ths)\n",
    "fig = plt.figure(figsize=(cols*20, rows*5))\n",
    "c = 0\n",
    "for i in range(rows):\n",
    "    for j in range(cols):\n",
    "        k = 0 # rare point theshold = 0\n",
    "        c_motif = overall_motifs[i][j][k]\n",
    "        c += 1\n",
    "        ax = fig.add_subplot(rows,cols,c)\n",
    "        ax = plot_motifs2(c_motif, ax)\n",
    "        ax.set_title('time_th = {}'.format(time_ths[i]))\n",
    "        ax.set_ylabel('dist_th = {}'.format(dist_ths[j],rotation = 'vertical'))\n"
   ]
  },
  {
   "cell_type": "code",
   "execution_count": null,
   "metadata": {
    "collapsed": false
   },
   "outputs": [],
   "source": [
    "# plot number of visited locations\n",
    "cols = len(dist_ths)\n",
    "rows = len(time_ths)\n",
    "fig = plt.figure(figsize=(cols*10, rows*6))\n",
    "c = 0\n",
    "for i in range(rows):\n",
    "    for j in range(cols):\n",
    "        k = 0 # rare point theshold = 0\n",
    "        c += 1\n",
    "        c_motif = overall_motifs[i][j][k]\n",
    "        ax = fig.add_subplot(rows, cols, c)\n",
    "        ax = plot_daily_visited_locations(c_motif, ax)\n",
    "        ax.set_title('time_th = {}'.format(time_ths[i]))\n",
    "        ax.set_ylabel('dist_th = {}'.format(dist_ths[j],rotation = 'vertical'))"
   ]
  },
  {
   "cell_type": "code",
   "execution_count": null,
   "metadata": {
    "collapsed": false,
    "scrolled": false
   },
   "outputs": [],
   "source": [
    "# plot motifs\n",
    "cols = len(dist_ths)\n",
    "rows = len(time_ths)\n",
    "fig = plt.figure(figsize=(cols*20, rows*5))\n",
    "c = 0\n",
    "for i in range(rows):\n",
    "    for j in range(cols):\n",
    "        k = 1 # rare point theshold = 0.1\n",
    "        c_motif = overall_motifs[i][j][k]\n",
    "        c += 1\n",
    "        ax = fig.add_subplot(rows,cols,c)\n",
    "        ax = plot_motifs2(c_motif, ax)\n",
    "        ax.set_title('time_th = {}'.format(time_ths[i]))\n",
    "        ax.set_ylabel('dist_th = {}'.format(dist_ths[j],rotation = 'vertical'))"
   ]
  },
  {
   "cell_type": "code",
   "execution_count": null,
   "metadata": {
    "collapsed": false,
    "scrolled": true
   },
   "outputs": [],
   "source": [
    "# plot motifs\n",
    "cols = len(dist_ths)\n",
    "rows = len(time_ths)\n",
    "fig = plt.figure(figsize=(cols*20, rows*5))\n",
    "c = 0\n",
    "for i in range(rows):\n",
    "    for j in range(cols):\n",
    "        k = 2 # rare point theshold = 0.5\n",
    "        c_motif = overall_motifs[i][j][k]\n",
    "        c += 1\n",
    "        ax = fig.add_subplot(rows,cols,c)\n",
    "        ax = plot_motifs2(c_motif, ax)\n",
    "        ax.set_title('time_th = {}'.format(time_ths[i]))\n",
    "        ax.set_ylabel('dist_th = {}'.format(dist_ths[j],rotation = 'vertical'))"
   ]
  },
  {
   "cell_type": "code",
   "execution_count": null,
   "metadata": {
    "collapsed": false
   },
   "outputs": [],
   "source": [
    "uid = 'u010.csv'\n",
    "time_th = '10m'\n",
    "dist_th = 300\n",
    "geohash_prc = 8\n",
    "rare_point_th = 0"
   ]
  },
  {
   "cell_type": "code",
   "execution_count": null,
   "metadata": {
    "collapsed": false
   },
   "outputs": [],
   "source": [
    "df5 = read_data(uid)"
   ]
  },
  {
   "cell_type": "code",
   "execution_count": null,
   "metadata": {
    "collapsed": true
   },
   "outputs": [],
   "source": [
    "df5['stay_point'] = get_stay_point(df5, dist_th=dist_th, time_th=time_th)\n",
    "df5['stay_region'] = get_stay_region(df5)"
   ]
  },
  {
   "cell_type": "code",
   "execution_count": null,
   "metadata": {
    "collapsed": false
   },
   "outputs": [],
   "source": [
    "# # generate daily nodes\n",
    "# nodes = generate_daily_nodes(df5.dropna(subset=['stay_region']), \n",
    "#                              'stay_region',\n",
    "#                              valid_day_th=8,\n",
    "#                              shift_day_start=pd.to_timedelta('3H'),\n",
    "#                              rare_pt_pct_th=rare_point_th)\n",
    "# # save to file\n",
    "# to_csv(uid, df5, nodes, time_th, dist_th, geohash_prc, rare_point_th)"
   ]
  },
  {
   "cell_type": "code",
   "execution_count": null,
   "metadata": {
    "collapsed": true
   },
   "outputs": [],
   "source": [
    "df5, nodes5 = from_csv(uid, time_th, dist_th, geohash_prc, rare_point_th)"
   ]
  },
  {
   "cell_type": "code",
   "execution_count": null,
   "metadata": {
    "collapsed": false
   },
   "outputs": [],
   "source": [
    "u5 = Userdata(uid=uid, df=df5, nodes=nodes5, time_th=time_th, rare_point_th=rare_point_th, dist_th=dist_th, geohash_prc=8)\n",
    "u5.generate_motifs(inst_home=True, round_trip=True, valid_timeslot_th=8)\n",
    "_ = u5.plot_motifs()"
   ]
  },
  {
   "cell_type": "code",
   "execution_count": null,
   "metadata": {
    "collapsed": true
   },
   "outputs": [],
   "source": [
    "uid = 'u016.csv'\n",
    "time_th = '10m'\n",
    "dist_th = 300\n",
    "geohash_prc = 8\n",
    "rare_point_th = 0"
   ]
  },
  {
   "cell_type": "code",
   "execution_count": null,
   "metadata": {
    "collapsed": true
   },
   "outputs": [],
   "source": [
    "df6 = read_data(uid)"
   ]
  },
  {
   "cell_type": "code",
   "execution_count": null,
   "metadata": {
    "collapsed": true
   },
   "outputs": [],
   "source": [
    "df6['stay_point'] = get_stay_point(df6, dist_th=dist_th, time_th=time_th)\n",
    "df6['stay_region'] = get_stay_region(df6)"
   ]
  },
  {
   "cell_type": "code",
   "execution_count": null,
   "metadata": {
    "collapsed": true
   },
   "outputs": [],
   "source": [
    "# generate daily nodes\n",
    "nodes6 = generate_daily_nodes(df6.dropna(subset=['stay_region']), \n",
    "                             'stay_region',\n",
    "                             valid_day_th=8,\n",
    "                             shift_day_start=pd.to_timedelta('3H'),\n",
    "                             rare_pt_pct_th=rare_point_th)\n",
    "# save to file\n",
    "to_csv(uid, df6, nodes6, time_th, dist_th, geohash_prc, rare_point_th)"
   ]
  },
  {
   "cell_type": "code",
   "execution_count": null,
   "metadata": {
    "collapsed": true
   },
   "outputs": [],
   "source": [
    "# df6, nodes6 = from_csv(uid, time_th, dist_th, geohash_prc, rare_point_th)"
   ]
  },
  {
   "cell_type": "code",
   "execution_count": null,
   "metadata": {
    "collapsed": false
   },
   "outputs": [],
   "source": [
    "u6 = Userdata(uid=uid, df=df6, nodes=nodes6, time_th=time_th, rare_point_th=rare_point_th, dist_th=dist_th, geohash_prc=8)\n",
    "u6.generate_motifs(inst_home=True, round_trip=True, valid_timeslot_th=8)\n",
    "_ = u6.plot_motifs()"
   ]
  },
  {
   "cell_type": "code",
   "execution_count": null,
   "metadata": {
    "collapsed": false
   },
   "outputs": [],
   "source": [
    "_ = u6.plot_daily_visited_locations()"
   ]
  },
  {
   "cell_type": "code",
   "execution_count": null,
   "metadata": {
    "collapsed": true
   },
   "outputs": [],
   "source": []
  }
 ],
 "metadata": {
  "kernelspec": {
   "display_name": "Python 3",
   "language": "python",
   "name": "python3"
  },
  "language_info": {
   "codemirror_mode": {
    "name": "ipython",
    "version": 3
   },
   "file_extension": ".py",
   "mimetype": "text/x-python",
   "name": "python",
   "nbconvert_exporter": "python",
   "pygments_lexer": "ipython3",
   "version": "3.5.2"
  }
 },
 "nbformat": 4,
 "nbformat_minor": 1
}
