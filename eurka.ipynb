{
 "cells": [
  {
   "cell_type": "code",
   "execution_count": null,
   "metadata": {
    "collapsed": true
   },
   "outputs": [],
   "source": [
    "import matplotlib.pyplot as plt\n",
    "import numpy as np\n",
    "import pandas as pd\n",
    "import anvil\n",
    "import geohash\n",
    "from locationpublic import *\n",
    "import os\n",
    "import sys\n",
    "import eurekacluster\n",
    "import math\n",
    "from motifanalysis import *\n",
    "import motif2\n",
    "import folium\n",
    "from geopy.distance import vincenty\n",
    "from collections import Counter"
   ]
  },
  {
   "cell_type": "code",
   "execution_count": 352,
   "metadata": {
    "collapsed": true
   },
   "outputs": [],
   "source": [
    "def compute_gyration_radius(significant_places_geo_hash, location_history_geohash):\n",
    "    \n",
    "    significant_places_gps = [geohash.decode(x) for x in significant_places_geo_hash]\n",
    "    num_places = len(significant_places_gps)\n",
    "    num_points = len(location_history)\n",
    "    \n",
    "    # construct dataframe to store significant places' info\n",
    "    significant_places = pd.DataFrame(columns =['geo_hash','gps','count','gyration_radius'])\n",
    "    significant_places.geo_hash = significant_places_geo_hash\n",
    "    significant_places.gps = significant_places_gps\n",
    "    significant_places.ix[:,'count'] = [0] * num_places\n",
    "    significant_places.ix[:,'gyration_radius'] = [0] * num_places\n",
    "    significant_places = significant_places.set_index('geo_hash')\n",
    "    \n",
    "    cnt = Counter(location_history_geohash)\n",
    "    for v in cnt:\n",
    "        if v in significant_places.index.tolist():\n",
    "            significant_places.ix[curr_loc,'count'] = cnt[v]\n",
    "            \n",
    "    significant_places = significant_places.sort_values(by = 'count',ascending = False)\n",
    "    \n",
    "    # compute tatal radius of gyration\n",
    "    N = sum(significant_places['count'].tolist())\n",
    "    r_cm = np.mean(significant_places.gps.tolist(),axis = 0)\n",
    "    temp_sum = 0\n",
    "    for i in range(num_places):\n",
    "        r = significant_places.ix[i,'gps']\n",
    "        temp_sum += significant_places.ix[i,'count'] * vincenty(r,r_cm).km**2\n",
    "    r_total = math.sqrt(1/N * temp_sum)\n",
    "    \n",
    "    # compute k-radius of gyration\n",
    "\n",
    "    for i in range(1,num_places+1):\n",
    "        N = sum(significant_places.ix[:i,'count'])\n",
    "        r_cm = np.mean(significant_places.ix[:i,'gps'].tolist(),axis = 0)\n",
    "        temp_sum = 0\n",
    "        for j in range(i):\n",
    "            r = significant_places.ix[j,'gps']\n",
    "            temp_sum += significant_places.ix[j,'count'] * vincenty(r,r_cm).km**2\n",
    "        significant_places.ix[i-1,'gyration_radius'] = math.sqrt(1/N * temp_sum)\n",
    "    \n",
    "    return(r_total, significant_places.gyration_radius.tolist(),significant_places)"
   ]
  },
  {
   "cell_type": "code",
   "execution_count": 33,
   "metadata": {
    "collapsed": true
   },
   "outputs": [],
   "source": [
    "uid = 'u066_rct@eureka.csv'\n",
    "eureka = pd.read_csv(uid, usecols=['time', 'longitude', 'latitude'])\n",
    "num_points = len(eureka)"
   ]
  },
  {
   "cell_type": "code",
   "execution_count": 43,
   "metadata": {
    "collapsed": false
   },
   "outputs": [],
   "source": [
    "eureka = anvil.api.convert_time_zone(df = eureka,column_name = 'time',should_localize = 'America/New_York',\n",
    "                                    sort_index = True, to_timezone = 'America/New_York')"
   ]
  },
  {
   "cell_type": "code",
   "execution_count": 65,
   "metadata": {
    "collapsed": true
   },
   "outputs": [],
   "source": [
    "eureka['geo_hash'] = compute_geo_hash(eureka, lat_c='latitude',lon_c='longitude', precision=7)\n",
    "eureka_hash = pd.Series(filter_out_rare_points(eureka.geo_hash))\n",
    "l = eureka_hash.dropna().unique().tolist()"
   ]
  },
  {
   "cell_type": "code",
   "execution_count": 110,
   "metadata": {
    "collapsed": false
   },
   "outputs": [],
   "source": [
    "x = [geohash.decode(t) for t in l]\n",
    "num_places = len(l)"
   ]
  },
  {
   "cell_type": "code",
   "execution_count": 340,
   "metadata": {
    "collapsed": false
   },
   "outputs": [],
   "source": [
    "r_total, r_k, df = compute_gyration_radius(l,eureka.geo_hash.tolist())"
   ]
  },
  {
   "cell_type": "code",
   "execution_count": 344,
   "metadata": {
    "collapsed": false
   },
   "outputs": [
    {
     "name": "stdout",
     "output_type": "stream",
     "text": [
      "141.45636369259844\n",
      "\n",
      "                                              gps  count       gyration_radius\n",
      "geo_hash                                                                      \n",
      "dr5xdrx   (40.73524475097656, -73.71894836425781)  10205  NaN         0.000000\n",
      "dru87xe   (43.67958068847656, -72.26325988769531)    152  NaN       174.433175\n",
      "dr5xdrw   (40.73524475097656, -73.72032165527344)    129  NaN       118.816577\n",
      "dr5xdrz   (40.73661804199219, -73.71894836425781)    108  NaN        92.143053\n",
      "dru87xd   (43.67958068847656, -72.26463317871094)     79  NaN       141.456364\n"
     ]
    }
   ],
   "source": [
    "print(r_total)\n",
    "print()\n",
    "print(df)"
   ]
  }
 ],
 "metadata": {
  "kernelspec": {
   "display_name": "Python 3",
   "language": "python",
   "name": "python3"
  },
  "language_info": {
   "codemirror_mode": {
    "name": "ipython",
    "version": 3
   },
   "file_extension": ".py",
   "mimetype": "text/x-python",
   "name": "python",
   "nbconvert_exporter": "python",
   "pygments_lexer": "ipython3",
   "version": "3.5.2"
  }
 },
 "nbformat": 4,
 "nbformat_minor": 1
}
