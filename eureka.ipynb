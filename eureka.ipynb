{
 "cells": [
  {
   "cell_type": "code",
   "execution_count": 10,
   "metadata": {
    "collapsed": true
   },
   "outputs": [],
   "source": [
    "import matplotlib.pyplot as plt\n",
    "import numpy as np\n",
    "import pandas as pd\n",
    "import anvil\n",
    "import geohash\n",
    "from locationpublic import *\n",
    "import os\n",
    "import sys\n",
    "import eurekacluster\n",
    "import math\n",
    "from motifanalysis import *\n",
    "import motif2\n",
    "import folium\n",
    "from geopy.distance import vincenty\n",
    "from collections import Counter"
   ]
  },
  {
   "cell_type": "code",
   "execution_count": 53,
   "metadata": {
    "collapsed": true
   },
   "outputs": [],
   "source": [
    "def compute_gyration_radius(significant_places_geo_hash, location_history_geohash):\n",
    "    \"\"\"\n",
    "    This function computes the total radius of gyration and k-radius gyration for an individual\n",
    "    based on visitied locations.\n",
    "    \n",
    "    The total radius of gyration is used to characterize the typical distance travelled by an individual.\n",
    "    The k-radius of gyration is the radius of gyration computed over the k-th most frequent locations.\n",
    "    \n",
    "    Parameters:\n",
    "    -----------\n",
    "    \n",
    "    significant_places_geo_hash: a list of strings\n",
    "        Geohash strings that store the visited locations/significant locations.\n",
    "    \n",
    "    location_history_geohash: a list of strings\n",
    "        A list of geohash values that represents the full location history/gps record of an indiviual in time series.\n",
    "    \n",
    "    returns:\n",
    "    --------\n",
    "    float:\n",
    "        The total radius of gyration\n",
    "    DataFrame:\n",
    "        k-th radius of gyration in descending order of frequented locations\n",
    "    DataFrame:\n",
    "        info for significant locations including geohash values, gps coordinates, count, k-th radius of gyration\n",
    "        \n",
    "    \"\"\"\n",
    "    significant_places_gps = [geohash.decode(x) for x in significant_places_geo_hash]\n",
    "    num_places = len(significant_places_gps)\n",
    "    num_points = len(location_history_geohash)\n",
    "    \n",
    "    # construct dataframe to store significant places' info\n",
    "    significant_places = pd.DataFrame(columns =['geo_hash','gps','count','cnt_pct','gyration_radius','k'])\n",
    "    significant_places.geo_hash = significant_places_geo_hash\n",
    "    significant_places.gps = significant_places_gps\n",
    "    significant_places.ix[:,'count'] = [0] * num_places\n",
    "    significant_places.ix[:,'gyration_radius'] = [0] * num_places\n",
    "    significant_places = significant_places.set_index('geo_hash')\n",
    "    \n",
    "    cnt = Counter(location_history_geohash)\n",
    "    for v in cnt:\n",
    "        if v in significant_places.index.tolist():\n",
    "            significant_places.ix[v,'count'] = cnt[v]\n",
    "            significant_places.ix[v,'cnt_pct'] = cnt[v] / num_points\n",
    "            \n",
    "    significant_places = significant_places.sort_values(by = 'count',ascending = False)\n",
    "    significant_places.ix[:,'k'] = [ x+1 for x in range(num_places)]\n",
    "    \n",
    "    # compute tatal radius of gyration\n",
    "    N = sum(significant_places['count'].tolist())\n",
    "    r_cm = np.mean(significant_places.gps.tolist(),axis = 0)\n",
    "    temp_sum = 0\n",
    "    for i in range(num_places):\n",
    "        r = significant_places.ix[i,'gps']\n",
    "        temp_sum += significant_places.ix[i,'count'] * vincenty(r,r_cm).km**2\n",
    "    r_total = math.sqrt(1/N * temp_sum)\n",
    "    \n",
    "    # compute k-radius of gyration\n",
    "\n",
    "    for i in range(1,num_places+1):\n",
    "        N = sum(significant_places.ix[:i,'count'])\n",
    "        r_cm = np.mean(significant_places.ix[:i,'gps'].tolist(),axis = 0)\n",
    "        temp_sum = 0\n",
    "        for j in range(i):\n",
    "            r = significant_places.ix[j,'gps']\n",
    "            temp_sum += significant_places.ix[j,'count'] * vincenty(r,r_cm).km**2\n",
    "        significant_places.ix[i-1,'gyration_radius'] = math.sqrt(1/N * temp_sum)\n",
    "    \n",
    "    significant_places['ratio_k'] = [ x/r_total for x in significant_places.gyration_radius.tolist()]\n",
    "    \n",
    "    return(r_total,significant_places.ix[:,['gyration_radius','k','ratio_k']].set_index('k'),significant_places)"
   ]
  },
  {
   "cell_type": "code",
   "execution_count": 13,
   "metadata": {
    "collapsed": true
   },
   "outputs": [],
   "source": [
    "uid = 'u066_rct@eureka.csv'\n",
    "eureka = pd.read_csv(uid, usecols=['time', 'longitude', 'latitude'])\n",
    "num_points = len(eureka)"
   ]
  },
  {
   "cell_type": "code",
   "execution_count": 16,
   "metadata": {
    "collapsed": false
   },
   "outputs": [],
   "source": [
    "# eureka = anvil.api.convert_time_zone(df = eureka,column_name = 'time',should_localize = 'America/New_York',\n",
    "#                                     sort_index = True, to_timezone = 'America/New_York')\n",
    "eureka = anvil.api.convert_time_zone(df = eureka,column_name = 'time')"
   ]
  },
  {
   "cell_type": "code",
   "execution_count": 17,
   "metadata": {
    "collapsed": true
   },
   "outputs": [],
   "source": [
    "eureka['geo_hash'] = compute_geo_hash(eureka, lat_c='latitude',lon_c='longitude', precision=7)\n",
    "eureka_hash = pd.Series(filter_out_rare_points(eureka.geo_hash))\n",
    "l = eureka_hash.dropna().unique().tolist()"
   ]
  },
  {
   "cell_type": "code",
   "execution_count": 54,
   "metadata": {
    "collapsed": false
   },
   "outputs": [],
   "source": [
    "r_total, r_k, df = compute_gyration_radius(l,eureka.geo_hash.tolist())"
   ]
  },
  {
   "cell_type": "code",
   "execution_count": 55,
   "metadata": {
    "collapsed": false
   },
   "outputs": [
    {
     "name": "stdout",
     "output_type": "stream",
     "text": [
      "141.45636369259844\n",
      "\n",
      "   gyration_radius   ratio_k\n",
      "k                           \n",
      "1         0.000000  0.000000\n",
      "2       174.433175  1.233124\n",
      "3       118.816577  0.839952\n",
      "4        92.143053  0.651389\n",
      "5       141.456364  1.000000\n",
      "\n",
      "                                              gps  count     cnt_pct  \\\n",
      "geo_hash                                                               \n",
      "dr5xdrx   (40.73524475097656, -73.71894836425781)  10205     0.92445   \n",
      "dru87xe   (43.67958068847656, -72.26325988769531)    152   0.0137694   \n",
      "dr5xdrw   (40.73524475097656, -73.72032165527344)    129   0.0116858   \n",
      "dr5xdrz   (40.73661804199219, -73.71894836425781)    108  0.00978349   \n",
      "dru87xd   (43.67958068847656, -72.26463317871094)     79  0.00715645   \n",
      "\n",
      "          gyration_radius  k   ratio_k  \n",
      "geo_hash                                \n",
      "dr5xdrx          0.000000  1  0.000000  \n",
      "dru87xe        174.433175  2  1.233124  \n",
      "dr5xdrw        118.816577  3  0.839952  \n",
      "dr5xdrz         92.143053  4  0.651389  \n",
      "dru87xd        141.456364  5  1.000000  \n"
     ]
    }
   ],
   "source": [
    "print(r_total)\n",
    "print()\n",
    "print(r_k)\n",
    "print()\n",
    "print(df)"
   ]
  }
 ],
 "metadata": {
  "kernelspec": {
   "display_name": "Python 3",
   "language": "python",
   "name": "python3"
  },
  "language_info": {
   "codemirror_mode": {
    "name": "ipython",
    "version": 3
   },
   "file_extension": ".py",
   "mimetype": "text/x-python",
   "name": "python",
   "nbconvert_exporter": "python",
   "pygments_lexer": "ipython3",
   "version": "3.5.2"
  }
 },
 "nbformat": 4,
 "nbformat_minor": 1
}
