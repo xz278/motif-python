{
 "cells": [
  {
   "cell_type": "code",
   "execution_count": 2,
   "metadata": {
    "collapsed": true
   },
   "outputs": [],
   "source": [
    "import matplotlib.pyplot as plt\n",
    "import numpy as np\n",
    "import pandas as pd\n",
    "import anvil\n",
    "import geohash\n",
    "from locationpublic import *\n",
    "import os\n",
    "import sys\n",
    "import eurekacluster\n",
    "import math\n",
    "from motifanalysis import *\n",
    "import motif2\n",
    "import folium\n",
    "from geopy.distance import vincenty\n",
    "from collections import Counter"
   ]
  },
  {
   "cell_type": "code",
   "execution_count": 10,
   "metadata": {
    "collapsed": true
   },
   "outputs": [],
   "source": [
    "%matplotlib inline"
   ]
  },
  {
   "cell_type": "code",
   "execution_count": 5,
   "metadata": {
    "collapsed": true
   },
   "outputs": [],
   "source": [
    "def compute_gyration_radius(significant_places_geo_hash, location_history_geohash):\n",
    "    \"\"\"\n",
    "    This function computes the total radius of gyration and k-radius gyration for an individual\n",
    "    based on visitied locations.\n",
    "    \n",
    "    The total radius of gyration is used to characterize the typical distance travelled by an individual.\n",
    "    The k-radius of gyration is the radius of gyration computed over the k-th most frequent locations.\n",
    "    \n",
    "    Parameters:\n",
    "    -----------\n",
    "    \n",
    "    significant_places_geo_hash: a list of strings\n",
    "        Geohash strings that store the visited locations/significant locations.\n",
    "    \n",
    "    location_history_geohash: a list of strings\n",
    "        A list of geohash values that represents the full location history/gps record of an indiviual in time series.\n",
    "    \n",
    "    returns:\n",
    "    --------\n",
    "    float:\n",
    "        The total radius of gyration\n",
    "    DataFrame:\n",
    "        k-th radius of gyration in descending order of frequented locations\n",
    "    DataFrame:\n",
    "        info for significant locations including geohash values, gps coordinates, count, k-th radius of gyration\n",
    "        \n",
    "    \"\"\"\n",
    "    significant_places_gps = [geohash.decode(x) for x in significant_places_geo_hash]\n",
    "    num_places = len(significant_places_gps)\n",
    "    num_points = len(location_history_geohash)\n",
    "    \n",
    "    # construct a DataFrame to store significant places' info\n",
    "    significant_places = pd.DataFrame(columns =['geo_hash','gps','count','cnt_pct','gyration_radius','k'])\n",
    "    significant_places.geo_hash = significant_places_geo_hash\n",
    "    significant_places.gps = significant_places_gps\n",
    "    significant_places.ix[:,'count'] = [0] * num_places\n",
    "    significant_places.ix[:,'gyration_radius'] = [0] * num_places\n",
    "    significant_places = significant_places.set_index('geo_hash')\n",
    "    \n",
    "    cnt = Counter(location_history_geohash)\n",
    "    for v in cnt:\n",
    "        if v in significant_places.index.tolist():\n",
    "            significant_places.ix[v,'count'] = cnt[v]\n",
    "            significant_places.ix[v,'cnt_pct'] = cnt[v] / num_points\n",
    "            \n",
    "    significant_places = significant_places.sort_values(by = 'count',ascending = False)\n",
    "    significant_places.ix[:,'k'] = [ x+1 for x in range(num_places)]\n",
    "    \n",
    "    # compute tatol radius of gyration\n",
    "    N = sum(significant_places['count'].tolist())\n",
    "    r_cm = np.mean(significant_places.gps.tolist(),axis = 0)\n",
    "    temp_sum = 0\n",
    "    for i in range(num_places):\n",
    "        r = significant_places.ix[i,'gps']\n",
    "        temp_sum += significant_places.ix[i,'count'] * vincenty(r,r_cm).km**2\n",
    "    r_total = math.sqrt(1/N * temp_sum)\n",
    "    \n",
    "    # compute k-radius of gyration\n",
    "    for i in range(1,num_places+1):\n",
    "        N = sum(significant_places.ix[:i,'count'])\n",
    "        r_cm = np.mean(significant_places.ix[:i,'gps'].tolist(),axis = 0)\n",
    "        temp_sum = 0\n",
    "        for j in range(i):\n",
    "            r = significant_places.ix[j,'gps']\n",
    "            temp_sum += significant_places.ix[j,'count'] * vincenty(r,r_cm).km**2\n",
    "        significant_places.ix[i-1,'gyration_radius'] = math.sqrt(1/N * temp_sum)\n",
    "    \n",
    "\n",
    "    \n",
    "    if len(significant_places_geo_hash)==1:\n",
    "        significant_places['ratio_k'] = 1\n",
    "    else:\n",
    "        significant_places['ratio_k'] = [ x/r_total for x in significant_places.gyration_radius.tolist()]\n",
    "    \n",
    "    return(r_total,significant_places.ix[:,['gyration_radius','k','ratio_k']].set_index('k'),significant_places)"
   ]
  },
  {
   "cell_type": "code",
   "execution_count": 6,
   "metadata": {
    "collapsed": true
   },
   "outputs": [],
   "source": [
    "def generate_recurrent_ratio(path,uids):\n",
    "    uids = pd.read_csv(path+uids,usecols = ['uid'])\n",
    "    uids = uids.uid.tolist()\n",
    "    max_l = 0\n",
    "    k_gyration = []\n",
    "    k_gyration_pct = []\n",
    "    uids2 = uids\n",
    "    for uid in uids:\n",
    "        curr_uid = path + uid\n",
    "        eureka = pd.read_csv(curr_uid, usecols=['time', 'longitude', 'latitude','geo_hash'])\n",
    "#         eureka = anvil.api.convert_time_zone(df = eureka,\n",
    "#                                              column_name = 'time',\n",
    "#                                              should_localize = 'America/New_York',\n",
    "#                                              sort_index = True, \n",
    "#                                              to_timezone = 'America/New_York')\n",
    "        eureka = anvil.api.convert_time_zone(df = eureka,column_name = 'time')\n",
    "        eureka_hash = pd.Series(filter_out_rare_points(eureka.geo_hash))\n",
    "        l = eureka_hash.dropna().unique().tolist()\n",
    "        if len(l)==0:\n",
    "            uids2.remove(uid)\n",
    "            continue\n",
    "        r_total, r_k, df = compute_gyration_radius(l,eureka.geo_hash.tolist())\n",
    "        k_gyration.append(r_k.gyration_radius)\n",
    "        k_gyration_pct.append(r_k.ratio_k)\n",
    "        curr_l = len(r_k.ratio_k)\n",
    "        if curr_l > max_l:\n",
    "            max_l = curr_l\n",
    "    ret_v = pd.DataFrame(k_gyration,index = uids2,columns = list(range(1,max_l+1)))\n",
    "    ret_pct = pd.DataFrame(k_gyration_pct,index = uids2,columns = list(range(1,max_l+1)))\n",
    "    return ret_v, ret_pct"
   ]
  },
  {
   "cell_type": "code",
   "execution_count": null,
   "metadata": {
    "collapsed": true
   },
   "outputs": [],
   "source": [
    "def get_geo_center(df, lat_c='latitude', lon_c='longitude'):\n",
    "    \"\"\"\n",
    "    Calculates center of given geo points.\n",
    "    \n",
    "    To avoid \"wrap-around\" issues (near international dateline),\n",
    "    this method follows [1].\n",
    "    \n",
    "    Parameters\n",
    "    ----------\n",
    "    df: DataFrame\n",
    "    \n",
    "    lat_c: str\n",
    "        Column name containing latitudes. Default is latitude.\n",
    "    lon_c: str\n",
    "        Column name containing longitudes. Default is longitude\n",
    "        \n",
    "    Returns\n",
    "    -------\n",
    "    d: dict\n",
    "        Keys 'latitude' and 'longitude' indicate\n",
    "        the coordinates of the center point.\n",
    "\n",
    "    [1]: https://carto.com/blog/center-of-points/\n",
    "    \"\"\"\n",
    "    \n",
    "    lat = df[lat_c]\n",
    "    lon = df[lon_c]\n",
    "    \n",
    "    angle = math.pi / 180\n",
    "    \n",
    "    center_lat = math.atan2(np.mean(np.sin(lat * angle)), \n",
    "                            np.mean(np.cos(lat * angle))) * 180 / math.pi\n",
    "    \n",
    "    center_lon = math.atan2(np.mean(np.sin(lon * angle)), \n",
    "                            np.mean(np.cos(lon * angle))) * 180 / math.pi\n",
    "    \n",
    "    return {'longitude': center_lon, 'latitude': center_lat}"
   ]
  },
  {
   "cell_type": "code",
   "execution_count": 7,
   "metadata": {
    "collapsed": false
   },
   "outputs": [],
   "source": [
    "v,r = generate_recurrent_ratio('./precision-7/','uids.csv')"
   ]
  },
  {
   "cell_type": "markdown",
   "metadata": {},
   "source": [
    "## Number of locations"
   ]
  },
  {
   "cell_type": "code",
   "execution_count": 11,
   "metadata": {
    "collapsed": false,
    "scrolled": true
   },
   "outputs": [
    {
     "data": {
      "text/plain": [
       "<matplotlib.figure.Figure at 0x7f0641bf2550>"
      ]
     },
     "metadata": {},
     "output_type": "display_data"
    },
    {
     "data": {
      "image/png": "[encoded data removed]",
      "text/plain": [
       "<matplotlib.figure.Figure at 0x7f0641fe89e8>"
      ]
     },
     "metadata": {},
     "output_type": "display_data"
    }
   ],
   "source": [
    "m = v.as_matrix()\n",
    "n = []\n",
    "for i in m:\n",
    "    t = [x for x in i if ~np.isnan(x)]\n",
    "    n.append(len(t))\n",
    "plt.clf()\n",
    "counter = Counter(n)\n",
    "df = pd.DataFrame.from_dict(counter, orient = 'index')\n",
    "df.plot(kind = 'bar')\n",
    "plt.show()"
   ]
  },
  {
   "cell_type": "markdown",
   "metadata": {},
   "source": [
    "# ratio between recurrent and overall mobility"
   ]
  },
  {
   "cell_type": "markdown",
   "metadata": {},
   "source": [
    "### k = 2"
   ]
  },
  {
   "cell_type": "code",
   "execution_count": 12,
   "metadata": {
    "collapsed": false,
    "scrolled": true
   },
   "outputs": [
    {
     "data": {
      "text/plain": [
       "<matplotlib.figure.Figure at 0x7f06420759b0>"
      ]
     },
     "metadata": {},
     "output_type": "display_data"
    },
    {
     "data": {
      "image/png": "[encoded data removed]",
      "text/plain": [
       "<matplotlib.figure.Figure at 0x7f0641fe5da0>"
      ]
     },
     "metadata": {},
     "output_type": "display_data"
    }
   ],
   "source": [
    "# plot for k = 2\n",
    "r2 = [round(x,1) for x in r.ix[:,2].dropna().tolist()]\n",
    "plt.clf()\n",
    "counter = Counter(r2)\n",
    "df = pd.DataFrame.from_dict(counter, orient = 'index')\n",
    "df.plot(kind = 'bar')\n",
    "plt.show()"
   ]
  },
  {
   "cell_type": "markdown",
   "metadata": {},
   "source": [
    "### k = 3"
   ]
  },
  {
   "cell_type": "code",
   "execution_count": 13,
   "metadata": {
    "collapsed": false,
    "scrolled": true
   },
   "outputs": [
    {
     "data": {
      "text/plain": [
       "<matplotlib.figure.Figure at 0x7f0641f159e8>"
      ]
     },
     "metadata": {},
     "output_type": "display_data"
    },
    {
     "data": {
      "image/png": "[encoded data removed]",
      "text/plain": [
       "<matplotlib.figure.Figure at 0x7f0641fbb6d8>"
      ]
     },
     "metadata": {},
     "output_type": "display_data"
    }
   ],
   "source": [
    "# plot for k = 3\n",
    "r2 = [round(x,1) for x in r.ix[:,3].dropna().tolist()]\n",
    "plt.clf()\n",
    "counter = Counter(r2)\n",
    "df = pd.DataFrame.from_dict(counter, orient = 'index')\n",
    "df.plot(kind = 'bar')\n",
    "plt.show()"
   ]
  },
  {
   "cell_type": "markdown",
   "metadata": {},
   "source": [
    "### k = 4"
   ]
  },
  {
   "cell_type": "code",
   "execution_count": 14,
   "metadata": {
    "collapsed": false,
    "scrolled": true
   },
   "outputs": [
    {
     "data": {
      "text/plain": [
       "<matplotlib.figure.Figure at 0x7f0641e53828>"
      ]
     },
     "metadata": {},
     "output_type": "display_data"
    },
    {
     "data": {
      "image/png": "[encoded data removed]",
      "text/plain": [
       "<matplotlib.figure.Figure at 0x7f0641fe5400>"
      ]
     },
     "metadata": {},
     "output_type": "display_data"
    }
   ],
   "source": [
    "# plot for k = 4\n",
    "r2 = [round(x,1) for x in r.ix[:,4].dropna().tolist()]\n",
    "plt.clf()\n",
    "counter = Counter(r2)\n",
    "df = pd.DataFrame.from_dict(counter, orient = 'index')\n",
    "df.plot(kind = 'bar')\n",
    "plt.show()"
   ]
  },
  {
   "cell_type": "markdown",
   "metadata": {},
   "source": [
    "### k = 5"
   ]
  },
  {
   "cell_type": "code",
   "execution_count": 15,
   "metadata": {
    "collapsed": false,
    "scrolled": true
   },
   "outputs": [
    {
     "data": {
      "text/plain": [
       "<matplotlib.figure.Figure at 0x7f06424a9dd8>"
      ]
     },
     "metadata": {},
     "output_type": "display_data"
    },
    {
     "data": {
      "image/png": "[encoded data removed]",
      "text/plain": [
       "<matplotlib.figure.Figure at 0x7f0641e1ab00>"
      ]
     },
     "metadata": {},
     "output_type": "display_data"
    }
   ],
   "source": [
    "# plot for k = 5\n",
    "r2 = [round(x,1) for x in r.ix[:,5].dropna().tolist()]\n",
    "plt.clf()\n",
    "counter = Counter(r2)\n",
    "df = pd.DataFrame.from_dict(counter, orient = 'index')\n",
    "df.plot(kind = 'bar')\n",
    "plt.show()"
   ]
  },
  {
   "cell_type": "markdown",
   "metadata": {},
   "source": [
    "### k = 8"
   ]
  },
  {
   "cell_type": "code",
   "execution_count": 16,
   "metadata": {
    "collapsed": false,
    "scrolled": true
   },
   "outputs": [
    {
     "data": {
      "text/plain": [
       "<matplotlib.figure.Figure at 0x7f0641da5f28>"
      ]
     },
     "metadata": {},
     "output_type": "display_data"
    },
    {
     "data": {
      "image/png": "[encoded data removed]",
      "text/plain": [
       "<matplotlib.figure.Figure at 0x7f06423b6940>"
      ]
     },
     "metadata": {},
     "output_type": "display_data"
    }
   ],
   "source": [
    "# plot for k = 8\n",
    "r2 = [round(x,1) for x in r.ix[:,8].dropna().tolist()]\n",
    "plt.clf()\n",
    "counter = Counter(r2)\n",
    "df = pd.DataFrame.from_dict(counter, orient = 'index')\n",
    "df.plot(kind = 'bar')\n",
    "plt.show()"
   ]
  },
  {
   "cell_type": "code",
   "execution_count": 13,
   "metadata": {
    "collapsed": true
   },
   "outputs": [],
   "source": [
    "uid = 'u066_rct@eureka.csv'\n",
    "eureka = pd.read_csv(uid, usecols=['time', 'longitude', 'latitude'])\n",
    "num_points = len(eureka)"
   ]
  },
  {
   "cell_type": "code",
   "execution_count": 16,
   "metadata": {
    "collapsed": false
   },
   "outputs": [],
   "source": [
    "# eureka = anvil.api.convert_time_zone(df = eureka,column_name = 'time',should_localize = 'America/New_York',\n",
    "#                                     sort_index = True, to_timezone = 'America/New_York')\n",
    "eureka = anvil.api.convert_time_zone(df = eureka,column_name = 'time')"
   ]
  },
  {
   "cell_type": "code",
   "execution_count": 17,
   "metadata": {
    "collapsed": true
   },
   "outputs": [],
   "source": [
    "eureka['geo_hash'] = compute_geo_hash(eureka, lat_c='latitude',lon_c='longitude', precision=7)\n",
    "eureka_hash = pd.Series(filter_out_rare_points(eureka.geo_hash))\n",
    "l = eureka_hash.dropna().unique().tolist()"
   ]
  },
  {
   "cell_type": "code",
   "execution_count": 54,
   "metadata": {
    "collapsed": false
   },
   "outputs": [],
   "source": [
    "r_total, r_k, df = compute_gyration_radius(l,eureka.geo_hash.tolist())"
   ]
  },
  {
   "cell_type": "code",
   "execution_count": 55,
   "metadata": {
    "collapsed": false
   },
   "outputs": [
    {
     "name": "stdout",
     "output_type": "stream",
     "text": [
      "141.45636369259844\n",
      "\n",
      "   gyration_radius   ratio_k\n",
      "k                           \n",
      "1         0.000000  0.000000\n",
      "2       174.433175  1.233124\n",
      "3       118.816577  0.839952\n",
      "4        92.143053  0.651389\n",
      "5       141.456364  1.000000\n",
      "\n",
      "                                              gps  count     cnt_pct  \\\n",
      "geo_hash                                                               \n",
      "dr5xdrx   (40.73524475097656, -73.71894836425781)  10205     0.92445   \n",
      "dru87xe   (43.67958068847656, -72.26325988769531)    152   0.0137694   \n",
      "dr5xdrw   (40.73524475097656, -73.72032165527344)    129   0.0116858   \n",
      "dr5xdrz   (40.73661804199219, -73.71894836425781)    108  0.00978349   \n",
      "dru87xd   (43.67958068847656, -72.26463317871094)     79  0.00715645   \n",
      "\n",
      "          gyration_radius  k   ratio_k  \n",
      "geo_hash                                \n",
      "dr5xdrx          0.000000  1  0.000000  \n",
      "dru87xe        174.433175  2  1.233124  \n",
      "dr5xdrw        118.816577  3  0.839952  \n",
      "dr5xdrz         92.143053  4  0.651389  \n",
      "dru87xd        141.456364  5  1.000000  \n"
     ]
    }
   ],
   "source": [
    "print(r_total)\n",
    "print()\n",
    "print(r_k)\n",
    "print()\n",
    "print(df)"
   ]
  },
  {
   "cell_type": "code",
   "execution_count": 14,
   "metadata": {
    "collapsed": false
   },
   "outputs": [],
   "source": [
    "uids = pd.read_csv('./precision-7/uids.csv',usecols = ['uid'])\n",
    "uids = uids.uid.tolist()\n",
    "prefix = './precision-7/'"
   ]
  },
  {
   "cell_type": "code",
   "execution_count": 24,
   "metadata": {
    "collapsed": false
   },
   "outputs": [
    {
     "name": "stdout",
     "output_type": "stream",
     "text": [
      "./precision-7/u006.csv\n"
     ]
    }
   ],
   "source": [
    "u = prefix + uids[1]\n",
    "print(u)"
   ]
  },
  {
   "cell_type": "code",
   "execution_count": 25,
   "metadata": {
    "collapsed": false
   },
   "outputs": [],
   "source": [
    "eureka = pd.read_csv(u, usecols=['time', 'longitude', 'latitude','geo_hash'])"
   ]
  },
  {
   "cell_type": "code",
   "execution_count": 26,
   "metadata": {
    "collapsed": false
   },
   "outputs": [],
   "source": [
    "eureka = anvil.api.convert_time_zone(df = eureka,column_name = 'time',should_localize = 'America/New_York',\n",
    "                                    sort_index = True, to_timezone = 'America/New_York')\n",
    "eureka_hash = pd.Series(filter_out_rare_points(eureka.geo_hash))\n",
    "l = eureka_hash.dropna().unique().tolist()"
   ]
  },
  {
   "cell_type": "code",
   "execution_count": 27,
   "metadata": {
    "collapsed": false
   },
   "outputs": [
    {
     "data": {
      "text/plain": [
       "['dr5x3wx', 'dr5x3y2', 'dr5x3y0', 'dr5x3wr', 'dhwuydt']"
      ]
     },
     "execution_count": 27,
     "metadata": {},
     "output_type": "execute_result"
    }
   ],
   "source": [
    "l"
   ]
  },
  {
   "cell_type": "code",
   "execution_count": 31,
   "metadata": {
    "collapsed": false
   },
   "outputs": [
    {
     "name": "stdout",
     "output_type": "stream",
     "text": [
      "380.28289915908306\n",
      "\n",
      "   gyration_radius   ratio_k\n",
      "k                           \n",
      "1         0.000000  0.000000\n",
      "2         0.163174  0.000429\n",
      "3         0.166165  0.000437\n",
      "4       453.642883  1.192909\n",
      "5       380.282899  1.000000\n"
     ]
    }
   ],
   "source": [
    "r_total, r_k, df = compute_gyration_radius(l,eureka.geo_hash.tolist())\n",
    "print(r_total)\n",
    "print()\n",
    "print(r_k)"
   ]
  },
  {
   "cell_type": "code",
   "execution_count": 32,
   "metadata": {
    "collapsed": false
   },
   "outputs": [
    {
     "name": "stdout",
     "output_type": "stream",
     "text": [
      "   gyration_radius   ratio_k                     uid\n",
      "k                                                   \n",
      "1         0.000000  0.000000  ./precision-7/u006.csv\n",
      "2         0.163174  0.000429  ./precision-7/u006.csv\n",
      "3         0.166165  0.000437  ./precision-7/u006.csv\n",
      "4       453.642883  1.192909  ./precision-7/u006.csv\n",
      "5       380.282899  1.000000  ./precision-7/u006.csv\n"
     ]
    }
   ],
   "source": [
    "r_k['uid'] = u\n",
    "print(r_k)"
   ]
  },
  {
   "cell_type": "code",
   "execution_count": 60,
   "metadata": {
    "collapsed": false
   },
   "outputs": [],
   "source": [
    "a = [1,2,3]\n",
    "b = [2,3,4]\n",
    "c = [1,2]\n",
    "d = [1,2,3,4,5]\n",
    "e = pd.DataFrame([a,b,c,d],index = list('abcd'), columns = list(range(1,5+1)))"
   ]
  },
  {
   "cell_type": "code",
   "execution_count": 61,
   "metadata": {
    "collapsed": false
   },
   "outputs": [
    {
     "data": {
      "text/html": [
       "<div>\n",
       "<table border=\"1\" class=\"dataframe\">\n",
       "  <thead>\n",
       "    <tr style=\"text-align: right;\">\n",
       "      <th></th>\n",
       "      <th>1</th>\n",
       "      <th>2</th>\n",
       "      <th>3</th>\n",
       "      <th>4</th>\n",
       "      <th>5</th>\n",
       "    </tr>\n",
       "  </thead>\n",
       "  <tbody>\n",
       "    <tr>\n",
       "      <th>a</th>\n",
       "      <td>1</td>\n",
       "      <td>2</td>\n",
       "      <td>3.0</td>\n",
       "      <td>NaN</td>\n",
       "      <td>NaN</td>\n",
       "    </tr>\n",
       "    <tr>\n",
       "      <th>b</th>\n",
       "      <td>2</td>\n",
       "      <td>3</td>\n",
       "      <td>4.0</td>\n",
       "      <td>NaN</td>\n",
       "      <td>NaN</td>\n",
       "    </tr>\n",
       "    <tr>\n",
       "      <th>c</th>\n",
       "      <td>1</td>\n",
       "      <td>2</td>\n",
       "      <td>NaN</td>\n",
       "      <td>NaN</td>\n",
       "      <td>NaN</td>\n",
       "    </tr>\n",
       "    <tr>\n",
       "      <th>d</th>\n",
       "      <td>1</td>\n",
       "      <td>2</td>\n",
       "      <td>3.0</td>\n",
       "      <td>4.0</td>\n",
       "      <td>5.0</td>\n",
       "    </tr>\n",
       "  </tbody>\n",
       "</table>\n",
       "</div>"
      ],
      "text/plain": [
       "   1  2    3    4    5\n",
       "a  1  2  3.0  NaN  NaN\n",
       "b  2  3  4.0  NaN  NaN\n",
       "c  1  2  NaN  NaN  NaN\n",
       "d  1  2  3.0  4.0  5.0"
      ]
     },
     "execution_count": 61,
     "metadata": {},
     "output_type": "execute_result"
    }
   ],
   "source": []
  }
 ],
 "metadata": {
  "kernelspec": {
   "display_name": "Python 3",
   "language": "python",
   "name": "python3"
  },
  "language_info": {
   "codemirror_mode": {
    "name": "ipython",
    "version": 3
   },
   "file_extension": ".py",
   "mimetype": "text/x-python",
   "name": "python",
   "nbconvert_exporter": "python",
   "pygments_lexer": "ipython3",
   "version": "3.5.2"
  }
 },
 "nbformat": 4,
 "nbformat_minor": 1
}
